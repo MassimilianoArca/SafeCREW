{
 "cells": [
  {
   "cell_type": "markdown",
   "metadata": {},
   "source": [
    "# Supply Points (Case dell'Acqua) Data Preprocessing"
   ]
  },
  {
   "cell_type": "code",
   "execution_count": null,
   "metadata": {},
   "outputs": [],
   "source": [
    "import os\n",
    "import json\n",
    "import pandas as pd\n",
    "import numpy as np\n",
    "import seaborn as sns\n",
    "import matplotlib.pyplot as plt"
   ]
  },
  {
   "cell_type": "markdown",
   "metadata": {},
   "source": [
    "## Paths"
   ]
  },
  {
   "cell_type": "code",
   "execution_count": null,
   "metadata": {},
   "outputs": [],
   "source": [
    "data_folder = os.path.join(os.path.join(\"..\", \"data\"))\n",
    "raw_data_folder = os.path.join(data_folder, \"Raw Data\")\n",
    "\n",
    "datasets_folder = os.path.join(data_folder, \"Intermediate Data\")\n",
    "store_folder = os.path.join(data_folder, \"temporary results\")\n",
    "\n",
    "grab_samples_supply_points_path = os.path.join(\n",
    "    raw_data_folder,\n",
    "    \"Case dell'acqua - Grab Samples (main)/0. Case acqua - 2010-2023.xlsx\",\n",
    ")"
   ]
  },
  {
   "cell_type": "markdown",
   "metadata": {},
   "source": [
    "## Collect all grab samples for Supply Points"
   ]
  },
  {
   "cell_type": "markdown",
   "metadata": {},
   "source": [
    "### Load all grab samples"
   ]
  },
  {
   "cell_type": "code",
   "execution_count": null,
   "metadata": {},
   "outputs": [],
   "source": [
    "grab_samples_df = pd.read_excel(\n",
    "    os.path.join(datasets_folder, \"All grab samples.xlsx\"),\n",
    ")"
   ]
  },
  {
   "cell_type": "markdown",
   "metadata": {},
   "source": [
    "### Import column types"
   ]
  },
  {
   "cell_type": "code",
   "execution_count": null,
   "metadata": {},
   "outputs": [],
   "source": [
    "# load from json file the columns\n",
    "with open(os.path.join(store_folder, \"columns_types.json\"), \"r\") as f:\n",
    "    column_types = json.load(f)\n",
    "\n",
    "all_metadata_columns = column_types[\"metadata_columns\"]\n",
    "all_feature_columns = column_types[\"features_columns\"]\n",
    "all_target_columns = column_types[\"targets_columns\"]\n",
    "\n",
    "all_columns = all_metadata_columns + all_feature_columns + all_target_columns\n",
    "\n",
    "metadata_columns = list(\n",
    "    set(all_metadata_columns) & set(grab_samples_df.columns)\n",
    ")\n",
    "feature_columns = list(set(all_feature_columns) & set(grab_samples_df.columns))\n",
    "target_columns = list(set(all_target_columns) & set(grab_samples_df.columns))"
   ]
  },
  {
   "cell_type": "markdown",
   "metadata": {},
   "source": [
    "### Get Name and ID of Supply Points"
   ]
  },
  {
   "cell_type": "code",
   "execution_count": null,
   "metadata": {},
   "outputs": [],
   "source": [
    "column_list = \"CS, CT\"\n",
    "\n",
    "meta_supply_points_df = pd.read_excel(\n",
    "    grab_samples_supply_points_path, usecols=column_list, header=4\n",
    ")"
   ]
  },
  {
   "cell_type": "code",
   "execution_count": null,
   "metadata": {},
   "outputs": [],
   "source": [
    "meta_supply_points_df"
   ]
  },
  {
   "cell_type": "markdown",
   "metadata": {},
   "source": [
    "### Get Supply Points Grab Samples"
   ]
  },
  {
   "cell_type": "code",
   "execution_count": null,
   "metadata": {},
   "outputs": [],
   "source": [
    "supply_points_df = grab_samples_df.merge(\n",
    "    meta_supply_points_df,\n",
    "    left_on=[\"Punto di prelievo\", \"Codice punto di prelievo\"],\n",
    "    right_on=[\"filtro 1\", \"filtro 2\"],\n",
    "    how=\"inner\",\n",
    ")"
   ]
  },
  {
   "cell_type": "code",
   "execution_count": null,
   "metadata": {},
   "outputs": [],
   "source": [
    "# supply_points_df.drop(columns=[\"filtro 1\", \"filtro 2\"], inplace=True)\n",
    "supply_points_df.drop_duplicates(inplace=True)"
   ]
  },
  {
   "cell_type": "code",
   "execution_count": null,
   "metadata": {},
   "outputs": [],
   "source": [
    "supply_points_df"
   ]
  },
  {
   "cell_type": "code",
   "execution_count": null,
   "metadata": {},
   "outputs": [],
   "source": [
    "supply_points_df = supply_points_df[\n",
    "    (\n",
    "        supply_points_df[\"filtro 1\"].notna()\n",
    "        | supply_points_df[\"filtro 2\"].notna()\n",
    "    )\n",
    "]\n",
    "\n",
    "supply_points_df.drop(\n",
    "    columns=[\n",
    "        \"filtro 1\",\n",
    "        \"filtro 2\",\n",
    "    ],\n",
    "    inplace=True,\n",
    ")"
   ]
  },
  {
   "cell_type": "code",
   "execution_count": null,
   "metadata": {},
   "outputs": [],
   "source": [
    "# if there are rows with the same values for Rapporto di prova, keep the one with the most complete data\n",
    "\n",
    "# Count the number of non-NaN values in each row\n",
    "supply_points_df[\"non_nan_count\"] = supply_points_df.count(axis=1)\n",
    "\n",
    "# Group by 'Rapporto di prova' and keep the row with the most non-NaN values\n",
    "supply_points_df = supply_points_df.loc[\n",
    "    supply_points_df.groupby(\"Rapporto di prova\")[\"non_nan_count\"].idxmax()\n",
    "]\n",
    "\n",
    "# Drop the 'non_nan_count' column as it's no longer needed\n",
    "supply_points_df = supply_points_df.drop(columns=\"non_nan_count\")"
   ]
  },
  {
   "cell_type": "code",
   "execution_count": null,
   "metadata": {},
   "outputs": [],
   "source": [
    "# drop rows that contain only nans for the columns that are not in metadata_columns\n",
    "supply_points_df.dropna(\n",
    "    axis=0,\n",
    "    how=\"all\",\n",
    "    subset=[\n",
    "        col\n",
    "        for col in supply_points_df.columns.to_list()\n",
    "        if col not in metadata_columns\n",
    "    ],\n",
    "    inplace=True,\n",
    ")\n",
    "\n",
    "# drop columns that contain only nans\n",
    "supply_points_df.dropna(axis=1, how=\"all\", inplace=True)"
   ]
  },
  {
   "cell_type": "code",
   "execution_count": null,
   "metadata": {},
   "outputs": [],
   "source": [
    "supply_points_df"
   ]
  },
  {
   "cell_type": "code",
   "execution_count": null,
   "metadata": {},
   "outputs": [],
   "source": [
    "supply_points_df[\"Codice punto di prelievo\"] = supply_points_df[\n",
    "    \"Codice punto di prelievo\"\n",
    "].str.strip()"
   ]
  },
  {
   "cell_type": "code",
   "execution_count": null,
   "metadata": {},
   "outputs": [],
   "source": [
    "supply_points_df"
   ]
  },
  {
   "cell_type": "code",
   "execution_count": null,
   "metadata": {},
   "outputs": [],
   "source": [
    "supply_points_df.to_excel(\n",
    "    os.path.join(datasets_folder, \"All grab samples - supply points.xlsx\"),\n",
    "    index=False,\n",
    ")"
   ]
  }
 ],
 "metadata": {
  "kernelspec": {
   "display_name": "experiments-XEWf3URI-py3.11",
   "language": "python",
   "name": "python3"
  },
  "language_info": {
   "codemirror_mode": {
    "name": "ipython",
    "version": 3
   },
   "file_extension": ".py",
   "mimetype": "text/x-python",
   "name": "python",
   "nbconvert_exporter": "python",
   "pygments_lexer": "ipython3",
   "version": "3.12.2"
  }
 },
 "nbformat": 4,
 "nbformat_minor": 2
}
