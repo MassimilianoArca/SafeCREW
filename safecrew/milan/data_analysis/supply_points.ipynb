{
 "cells": [
  {
   "cell_type": "markdown",
   "metadata": {},
   "source": [
    "# Supply Points Data Analysis"
   ]
  },
  {
   "cell_type": "code",
   "execution_count": 1,
   "metadata": {},
   "outputs": [],
   "source": [
    "import os\n",
    "import pandas as pd\n",
    "import numpy as np\n",
    "import matplotlib.pyplot as plt\n",
    "import seaborn as sns"
   ]
  },
  {
   "cell_type": "code",
   "execution_count": 4,
   "metadata": {},
   "outputs": [],
   "source": [
    "data_path = \"/Users/massimilianoarca/Documents/PoliMi/Research Grant/SafeCREW/Data/Milano\"\n",
    "dir_temporary_results_path = os.path.join(data_path, \"temporary results\")\n",
    "raw_grab_samples_path = os.path.join(\n",
    "    dir_temporary_results_path, \"raw_grab_samples_supply_points.csv\"\n",
    ")\n",
    "house_codes_path = os.path.join(data_path, \"Case-Codici.xlsx\")"
   ]
  },
  {
   "cell_type": "code",
   "execution_count": 5,
   "metadata": {},
   "outputs": [],
   "source": [
    "raw_grab_samples_df = pd.read_csv(raw_grab_samples_path)"
   ]
  },
  {
   "cell_type": "code",
   "execution_count": null,
   "metadata": {},
   "outputs": [
    {
     "name": "stderr",
     "output_type": "stream",
     "text": [
      "<>:4: SyntaxWarning: invalid escape sequence '\\*'\n",
      "<>:4: SyntaxWarning: invalid escape sequence '\\*'\n",
      "/var/folders/z5/plf0_b5s39nb0_gctbxmpndc0000gn/T/ipykernel_50515/827278286.py:4: SyntaxWarning: invalid escape sequence '\\*'\n",
      "  series.astype(str).str.contains(\"|\".join([\"<\", \"\\*\", \">\", \"[a-zA-Z]\"]))\n"
     ]
    }
   ],
   "source": [
    "def count_values(series):\n",
    "    num_nans = series.isna().sum()\n",
    "    strings = series[\n",
    "        series.astype(str).str.contains(\"|\".join([\"<\", \"\\*\", \">\", \"[a-zA-Z]\"]))\n",
    "    ].count()\n",
    "    num_numbers = series[\n",
    "        series.apply(lambda x: isinstance(x, (int, float)))\n",
    "    ].count()\n",
    "    return pd.Series(\n",
    "        [num_nans, strings, num_numbers], index=[\"NaN\", \"Strings\", \"numbers\"]\n",
    "    )"
   ]
  },
  {
   "cell_type": "code",
   "execution_count": null,
   "metadata": {},
   "outputs": [],
   "source": [
    "columns = raw_grab_samples_df.columns[7:]"
   ]
  },
  {
   "cell_type": "code",
   "execution_count": null,
   "metadata": {},
   "outputs": [],
   "source": [
    "histogram = raw_grab_samples_df[columns].apply(count_values)"
   ]
  },
  {
   "cell_type": "code",
   "execution_count": null,
   "metadata": {},
   "outputs": [],
   "source": [
    "histogram.loc[\"Total\"] = histogram.sum()"
   ]
  },
  {
   "cell_type": "code",
   "execution_count": null,
   "metadata": {},
   "outputs": [],
   "source": [
    "histogram"
   ]
  },
  {
   "cell_type": "code",
   "execution_count": null,
   "metadata": {},
   "outputs": [],
   "source": [
    "ax = histogram.T[[\"NaN\", \"Strings\", \"numbers\"]].plot.bar(figsize=(30, 10))\n",
    "\n",
    "for p in ax.patches:\n",
    "    ax.annotate(str(p.get_height()), (p.get_x() * 1.005, p.get_height() * 1.02))"
   ]
  },
  {
   "cell_type": "code",
   "execution_count": null,
   "metadata": {},
   "outputs": [],
   "source": [
    "plt.style.use(\"ggplot\")\n",
    "\n",
    "for column in columns:\n",
    "    plt.figure(figsize=(20, 10))\n",
    "    hist = raw_grab_samples_df[column].where(\n",
    "        raw_grab_samples_df[column].apply(lambda x: isinstance(x, (int, float)))\n",
    "    )\n",
    "    count, bins, patches = plt.hist(\n",
    "        hist.dropna(), bins=30, edgecolor=\"black\", linewidth=1.2\n",
    "    )\n",
    "    plt.title(\n",
    "        column\n",
    "        + \" - Count: \"\n",
    "        + str(hist.count())\n",
    "        + \" / \"\n",
    "        + str(raw_grab_samples_df.shape[0])\n",
    "    )\n",
    "    plt.ylabel(\"Frequency\")\n",
    "\n",
    "    # Set x-ticks to bin edges and x-tick labels to intervals\n",
    "    plt.xticks(\n",
    "        bins[:-1],\n",
    "        [f\"{bins[i]:.2f}-{bins[i+1]:.2f}\" for i in range(len(bins) - 1)],\n",
    "        rotation=\"vertical\",\n",
    "        fontsize=8,\n",
    "    )\n",
    "\n",
    "    # Add count for every bar\n",
    "    for p in patches:\n",
    "        plt.annotate(\n",
    "            str(int(p.get_height())), (p.get_x() * 1.005, p.get_height() * 1.02)\n",
    "        )"
   ]
  },
  {
   "cell_type": "code",
   "execution_count": null,
   "metadata": {},
   "outputs": [],
   "source": [
    "# TODO finire di spostare da house code path"
   ]
  },
  {
   "cell_type": "code",
   "execution_count": null,
   "metadata": {},
   "outputs": [],
   "source": [
    "houses_code_df = pd.read_excel(house_codes_path)"
   ]
  },
  {
   "cell_type": "code",
   "execution_count": null,
   "metadata": {},
   "outputs": [],
   "source": [
    "houses_code_df[\"Casa dell'acqua\"][7] = houses_code_df[\"Casa dell'acqua\"][\n",
    "    7\n",
    "].rstrip()\n",
    "\n",
    "houses_code_df.loc[4] = [\"Chiostergi\", \"HOUSE_CHIOSTERGI\"]"
   ]
  },
  {
   "cell_type": "code",
   "execution_count": null,
   "metadata": {},
   "outputs": [],
   "source": [
    "houses_code_df"
   ]
  },
  {
   "cell_type": "code",
   "execution_count": null,
   "metadata": {},
   "outputs": [],
   "source": [
    "# keep just rows of raw_grab_samples_df that have a Codice punto di prelievo that is contained in the houses_code_df Codice Punto di Prelievo\n",
    "grab_samples_df = raw_grab_samples_df.merge(\n",
    "    houses_code_df,\n",
    "    left_on=\"Codice punto di prelievo\",\n",
    "    right_on=\"Codice Punto di Prelievo\",\n",
    "    how=\"inner\",\n",
    ")\n",
    "\n",
    "grab_samples_df.drop(\n",
    "    columns=[\"Casa dell'acqua\", \"Codice Punto di Prelievo\"], inplace=True\n",
    ")"
   ]
  },
  {
   "cell_type": "code",
   "execution_count": null,
   "metadata": {},
   "outputs": [],
   "source": [
    "grab_samples_df"
   ]
  },
  {
   "cell_type": "code",
   "execution_count": null,
   "metadata": {},
   "outputs": [],
   "source": [
    "histogram = grab_samples_df[columns].apply(count_values)"
   ]
  },
  {
   "cell_type": "code",
   "execution_count": null,
   "metadata": {},
   "outputs": [],
   "source": [
    "histogram.loc[\"Total\"] = histogram.sum()"
   ]
  },
  {
   "cell_type": "code",
   "execution_count": null,
   "metadata": {},
   "outputs": [],
   "source": [
    "ax = histogram.T[[\"NaN\", \"Strings\", \"numbers\"]].plot.bar(figsize=(30, 10))\n",
    "\n",
    "for p in ax.patches:\n",
    "    ax.annotate(str(p.get_height()), (p.get_x() * 1.005, p.get_height() * 1.02))"
   ]
  },
  {
   "cell_type": "code",
   "execution_count": null,
   "metadata": {},
   "outputs": [],
   "source": [
    "plt.style.use(\"ggplot\")\n",
    "\n",
    "for column in columns:\n",
    "    plt.figure(figsize=(20, 10))\n",
    "    hist = grab_samples_df[column].where(\n",
    "        grab_samples_df[column].apply(lambda x: isinstance(x, (int, float)))\n",
    "    )\n",
    "    count, bins, patches = plt.hist(\n",
    "        hist.dropna(), bins=30, edgecolor=\"black\", linewidth=1.2\n",
    "    )\n",
    "    plt.title(\n",
    "        column\n",
    "        + \" - Count: \"\n",
    "        + str(hist.count())\n",
    "        + \" / \"\n",
    "        + str(grab_samples_df.shape[0])\n",
    "    )\n",
    "    plt.ylabel(\"Frequency\")\n",
    "\n",
    "    # Set x-ticks to bin edges and x-tick labels to intervals\n",
    "    plt.xticks(\n",
    "        bins[:-1],\n",
    "        [f\"{bins[i]:.2f}-{bins[i+1]:.2f}\" for i in range(len(bins) - 1)],\n",
    "        rotation=\"vertical\",\n",
    "        fontsize=8,\n",
    "    )\n",
    "\n",
    "    # Add count for every bar\n",
    "    for p in patches:\n",
    "        plt.annotate(\n",
    "            str(int(p.get_height())), (p.get_x() * 1.005, p.get_height() * 1.02)\n",
    "        )"
   ]
  },
  {
   "cell_type": "code",
   "execution_count": null,
   "metadata": {},
   "outputs": [],
   "source": [
    "# TODO prima trasformare i dati non numerici in numerici e poi fare il plot\n",
    "\n",
    "for punto in grab_samples_df[\"Codice punto di prelievo\"].unique():\n",
    "    for col in grab_samples_df.columns:\n",
    "        # check if column belongs to float type\n",
    "        if grab_samples_df[col].dtype == float:\n",
    "            sanitized_col = col.split(\"-\")[0].rstrip()\n",
    "            # Extract unit of measure from column name\n",
    "            unit_of_measure = (\n",
    "                col.split(\"[\")[1].split(\"]\")[0] if \"[\" in col else \"\"\n",
    "            )\n",
    "            grab_samples_df[\n",
    "                grab_samples_df[\"Codice punto di prelievo\"] == punto\n",
    "            ].plot(\n",
    "                x=\"Data di prelievo\",\n",
    "                y=col,\n",
    "                legend=False,\n",
    "                title=f\"{punto} - {sanitized_col} [{unit_of_measure}]\",\n",
    "                fontsize=8,\n",
    "                figsize=(40, 10),\n",
    "            )\n",
    "            directory = f\"/Users/massimilianoarca/Documents/SafeCREW/Soft Sensors data/Milano/Grab samples data plots/{punto}\"\n",
    "            if not os.path.exists(directory):\n",
    "                os.makedirs(directory)\n",
    "            plt.savefig(f\"{directory}/{sanitized_col}.png\", dpi=300)"
   ]
  },
  {
   "cell_type": "markdown",
   "metadata": {},
   "source": [
    "### Sensors Data"
   ]
  },
  {
   "cell_type": "code",
   "execution_count": null,
   "metadata": {},
   "outputs": [],
   "source": [
    "df_list = []\n",
    "\n",
    "for file in os.listdir(sensor_data_folder_path):\n",
    "    if file.endswith(\".csv\"):\n",
    "        temp_df = pd.read_csv(\n",
    "            os.path.join(sensor_data_folder_path, file), header=1, sep=\";\"\n",
    "        )\n",
    "        location_name = file.split(\"_\")[0]\n",
    "        temp_df.insert(0, \"Location\", location_name)\n",
    "        code = houses_code_df[\n",
    "            houses_code_df[\"Casa dell'acqua\"] == location_name\n",
    "        ][\"Codice Punto di Prelievo\"].values[0]\n",
    "        temp_df.insert(1, \"Codice Punto di Prelievo\", code)\n",
    "        df_list.append(temp_df)\n",
    "\n",
    "raw_sensor_data_df = pd.concat(df_list, ignore_index=True)"
   ]
  },
  {
   "cell_type": "code",
   "execution_count": null,
   "metadata": {},
   "outputs": [],
   "source": [
    "raw_sensor_data_df"
   ]
  },
  {
   "cell_type": "code",
   "execution_count": null,
   "metadata": {},
   "outputs": [],
   "source": [
    "# group by codice punto di prelievo and plot every column\n",
    "for punto in raw_sensor_data_df[\"Codice Punto di Prelievo\"].unique():\n",
    "    for col in raw_sensor_data_df.columns:\n",
    "        # check if column belongs to float type\n",
    "        if raw_sensor_data_df[col].dtype == float:\n",
    "            sanitized_col = col.split(\"-\")[0].rstrip()\n",
    "            # Extract unit of measure from column name\n",
    "            unit_of_measure = (\n",
    "                col.split(\"[\")[1].split(\"]\")[0] if \"[\" in col else \"\"\n",
    "            )\n",
    "            raw_sensor_data_df[\n",
    "                raw_sensor_data_df[\"Codice Punto di Prelievo\"] == punto\n",
    "            ].plot(\n",
    "                x=\"Measurement interval=900[sec] (Export-Aggregation disabled)\",\n",
    "                y=col,\n",
    "                legend=False,\n",
    "                title=f\"{punto} - {sanitized_col} [{unit_of_measure}]\",\n",
    "                fontsize=8,\n",
    "                figsize=(40, 10),\n",
    "            )\n",
    "            directory = f\"/Users/massimilianoarca/Documents/SafeCREW/Soft Sensors data/Milano/Sensor data plots/{punto}\"\n",
    "            if not os.path.exists(directory):\n",
    "                os.makedirs(directory)\n",
    "            plt.savefig(f\"{directory}/{sanitized_col}.png\", dpi=300)"
   ]
  }
 ],
 "metadata": {
  "kernelspec": {
   "display_name": "safecrew-3OLHM_8n-py3.12",
   "language": "python",
   "name": "python3"
  },
  "language_info": {
   "codemirror_mode": {
    "name": "ipython",
    "version": 3
   },
   "file_extension": ".py",
   "mimetype": "text/x-python",
   "name": "python",
   "nbconvert_exporter": "python",
   "pygments_lexer": "ipython3",
   "version": "3.12.0"
  }
 },
 "nbformat": 4,
 "nbformat_minor": 2
}
