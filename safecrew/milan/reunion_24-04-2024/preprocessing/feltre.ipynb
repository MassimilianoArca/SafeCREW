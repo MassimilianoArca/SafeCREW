{
 "cells": [
  {
   "cell_type": "code",
   "execution_count": null,
   "metadata": {},
   "outputs": [],
   "source": [
    "import os\n",
    "import json\n",
    "import pandas as pd\n",
    "import numpy as np\n",
    "import plotly.graph_objects as go\n",
    "import matplotlib.pyplot as plt\n",
    "import seaborn as sns\n",
    "\n",
    "from sklearn.metrics import mean_squared_error"
   ]
  },
  {
   "cell_type": "markdown",
   "metadata": {},
   "source": [
    "# Paths"
   ]
  },
  {
   "cell_type": "code",
   "execution_count": null,
   "metadata": {},
   "outputs": [],
   "source": [
    "data_folder = os.path.join(os.path.join(\"..\", \"..\", \"data\"))\n",
    "raw_data_folder = os.path.join(data_folder, \"Raw Data\")\n",
    "\n",
    "reunion_folder = os.path.join(raw_data_folder, \"Riunione 24-04-2024\")\n",
    "feltre_folder = os.path.join(reunion_folder, \"feltre\")\n"
   ]
  },
  {
   "cell_type": "markdown",
   "metadata": {},
   "source": [
    "# Load Data"
   ]
  },
  {
   "cell_type": "code",
   "execution_count": null,
   "metadata": {},
   "outputs": [],
   "source": [
    "spectra_df = pd.read_excel(os.path.join(feltre_folder, \"Spectra_ISOIL_21.06.2024-06.08.2024.xlsx\"), header=1)\n",
    "data_df = pd.read_excel(os.path.join(feltre_folder, \"Data_ISOIL_21.06.2024-06.08.2024.xlsx\"), header=1)"
   ]
  },
  {
   "cell_type": "markdown",
   "metadata": {},
   "source": [
    "# Inspection"
   ]
  },
  {
   "cell_type": "markdown",
   "metadata": {},
   "source": [
    "## Spectra"
   ]
  },
  {
   "cell_type": "code",
   "execution_count": null,
   "metadata": {},
   "outputs": [],
   "source": [
    "spectra_df"
   ]
  },
  {
   "cell_type": "markdown",
   "metadata": {},
   "source": [
    "## Other Params"
   ]
  },
  {
   "cell_type": "code",
   "execution_count": null,
   "metadata": {},
   "outputs": [],
   "source": [
    "data_df"
   ]
  },
  {
   "cell_type": "markdown",
   "metadata": {},
   "source": [
    "# Confront UV254"
   ]
  },
  {
   "cell_type": "code",
   "execution_count": null,
   "metadata": {},
   "outputs": [],
   "source": [
    "fig = go.Figure()\n",
    "\n",
    "fig.add_trace(\n",
    "    go.Scatter(\n",
    "        x=data_df[\"Measurement interval=0[sec] (Export-Aggregation disabled)\"],\n",
    "        y=data_df[\"UV254 - Result (Limit:-Infinity-+Infinity)\"],\n",
    "        mode=\"lines\",\n",
    "        name=\"UV254 - Data\",\n",
    "        line=dict(color=\"red\")\n",
    "    )\n",
    ")\n",
    "\n",
    "fig.add_trace(\n",
    "    go.Scatter(\n",
    "        x=spectra_df[\"Measurement interval=0[sec] (Export-Aggregation disabled)\"],\n",
    "        y=spectra_df[\"254 nm\"],\n",
    "        mode=\"lines\",\n",
    "        name=\"UV254 - Spectra\",\n",
    "        line=dict(color=\"blue\")\n",
    "    )\n",
    ")\n",
    "\n",
    "fig.show()"
   ]
  },
  {
   "cell_type": "code",
   "execution_count": null,
   "metadata": {},
   "outputs": [],
   "source": [
    "rmse = np.sqrt(mean_squared_error(data_df[\"UV254 - Result (Limit:-Infinity-+Infinity)\"], spectra_df[\"254 nm\"]))\n",
    "rmse"
   ]
  }
 ],
 "metadata": {
  "kernelspec": {
   "display_name": "safecrew-3OLHM_8n-py3.12",
   "language": "python",
   "name": "python3"
  },
  "language_info": {
   "codemirror_mode": {
    "name": "ipython",
    "version": 3
   },
   "file_extension": ".py",
   "mimetype": "text/x-python",
   "name": "python",
   "nbconvert_exporter": "python",
   "pygments_lexer": "ipython3",
   "version": "3.12.2"
  }
 },
 "nbformat": 4,
 "nbformat_minor": 2
}
