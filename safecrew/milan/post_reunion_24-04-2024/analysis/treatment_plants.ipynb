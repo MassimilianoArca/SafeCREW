{
 "cells": [
  {
   "cell_type": "markdown",
   "metadata": {},
   "source": [
    "# Treatment Plants Analysis"
   ]
  },
  {
   "cell_type": "code",
   "execution_count": null,
   "metadata": {},
   "outputs": [],
   "source": [
    "import os\n",
    "import pandas as pd\n",
    "import numpy as np\n",
    "import plotly.graph_objects as go\n",
    "import plotly.express as px"
   ]
  },
  {
   "cell_type": "markdown",
   "metadata": {},
   "source": [
    "# Paths"
   ]
  },
  {
   "cell_type": "code",
   "execution_count": null,
   "metadata": {},
   "outputs": [],
   "source": [
    "data_folder = os.path.join(os.path.join(\"..\", \"..\", \"data\"))\n",
    "raw_data_folder = os.path.join(data_folder, \"Raw Data\")\n",
    "intermediate_data_folder = os.path.join(data_folder, \"Intermediate Data\")"
   ]
  },
  {
   "cell_type": "markdown",
   "metadata": {},
   "source": [
    "# Load Data"
   ]
  },
  {
   "cell_type": "code",
   "execution_count": null,
   "metadata": {},
   "outputs": [],
   "source": [
    "grab_samples_df = pd.read_excel(\n",
    "    os.path.join(intermediate_data_folder, \"All grab samples.xlsx\")\n",
    ")"
   ]
  },
  {
   "cell_type": "code",
   "execution_count": null,
   "metadata": {},
   "outputs": [],
   "source": [
    "grab_samples_df"
   ]
  },
  {
   "cell_type": "code",
   "execution_count": null,
   "metadata": {},
   "outputs": [],
   "source": [
    "# filter by ZONA where the 4 treatment plants are located\n",
    "tp_names = [\"NORD - OVEST\", \"NORD - EST\", \"SUD - OVEST\", \"SUD - EST\"]\n",
    "\n",
    "grab_samples_df = grab_samples_df[grab_samples_df[\"ZONA\"].isin(tp_names)]"
   ]
  },
  {
   "cell_type": "code",
   "execution_count": null,
   "metadata": {},
   "outputs": [],
   "source": [
    "grab_samples_df.columns.to_list()"
   ]
  },
  {
   "cell_type": "code",
   "execution_count": null,
   "metadata": {},
   "outputs": [],
   "source": [
    "feature_columns = [\n",
    "    \"Torbidità (NTU)\",\n",
    "    \"Conduttività a 20°C (µS/cm)\",\n",
    "    \"Cloro residuo libero (al prelievo) (mg/L di Cl2)\",\n",
    "    \"Temperatura (°C)\",\n",
    "    \"Nitrati (mg/L)\",\n",
    "    \"Nitriti (mg/L)\",\n",
    "    \"TOC - carbonio organico totale (mg/L di C)\",\n",
    "    \"Concentrazione ioni idrogeno (unità pH)\",\n",
    "]\n",
    "\n",
    "target_columns = [\n",
    "    \"Batteri coliformi a 37°C (MPN/100 mL)\",\n",
    "    \"Bromodiclorometano (µg/L)\",\n",
    "    \"Bromoformio (µg/L)\",\n",
    "    \"Carica batterica a 22°C (UFC/mL)\",\n",
    "    \"Carica batterica a 37°C (UFC/mL)\",\n",
    "    \"Cloroformio (µg/L)\",\n",
    "    \"Conteggio colonie a 30°C (UFC/mL)\",\n",
    "    \"Dibromoclorometano (µg/L)\",\n",
    "    \"Enterococchi (MPN/100 mL)\",\n",
    "    \"Escherichia coli (MPN/100 mL)\",\n",
    "    \"Legionella spp (UFC/L)\",\n",
    "    \"Pseudomonas aeruginosa (UFC/250 mL)\",\n",
    "    \"Sommatoria totale trialometani  (µg/L)\"\n",
    "]"
   ]
  },
  {
   "cell_type": "markdown",
   "metadata": {},
   "source": [
    "# Inspection"
   ]
  },
  {
   "cell_type": "markdown",
   "metadata": {},
   "source": [
    "## Time series"
   ]
  },
  {
   "cell_type": "markdown",
   "metadata": {},
   "source": [
    "### Features"
   ]
  },
  {
   "cell_type": "code",
   "execution_count": null,
   "metadata": {},
   "outputs": [],
   "source": [
    "# Define color and symbol mappings for the labels\n",
    "color_mapping = {\n",
    "    \"Less than\": \"red\",\n",
    "    \"Greater than\": \"blue\",\n",
    "    \"Normal\": \"green\",\n",
    "}\n",
    "\n",
    "symbol_mapping = {\n",
    "    \"Less than\": \"circle\",\n",
    "    \"Greater than\": \"square\",\n",
    "    \"Normal\": \"diamond\",\n",
    "}\n",
    "\n",
    "for col in feature_columns:\n",
    "    fig = go.Figure()\n",
    "    for tp_name in tp_names:\n",
    "        tp_df = grab_samples_df[grab_samples_df[\"ZONA\"] == tp_name]\n",
    "\n",
    "        tp_df.loc[:, \"Data di prelievo\"] = pd.to_datetime(tp_df[\"Data di prelievo\"])\n",
    "        tp_df = tp_df.sort_values(\"Data di prelievo\")\n",
    "\n",
    "        # Add line trace\n",
    "        fig.add_trace(\n",
    "            go.Scatter(\n",
    "                x=tp_df[\"Data di prelievo\"],\n",
    "                y=tp_df[col],\n",
    "                mode=\"lines\",\n",
    "                name=tp_name,\n",
    "                showlegend=True,\n",
    "            )\n",
    "        )\n",
    "\n",
    "        # Add scatter traces for each label\n",
    "        for label in color_mapping.keys():\n",
    "            label_df = tp_df[tp_df[col + \"_label\"] == label]\n",
    "            fig.add_trace(\n",
    "                go.Scatter(\n",
    "                    x=label_df[\"Data di prelievo\"],\n",
    "                    y=label_df[col],\n",
    "                    mode=\"markers\",\n",
    "                    name=f\"{tp_name} - {label}\",\n",
    "                    marker=dict(\n",
    "                        color=color_mapping[label],\n",
    "                        symbol=symbol_mapping[label],\n",
    "                    ),\n",
    "                    showlegend=True,\n",
    "                )\n",
    "            )\n",
    "\n",
    "    fig.update_layout(title=col)\n",
    "    fig.show()"
   ]
  },
  {
   "cell_type": "markdown",
   "metadata": {},
   "source": [
    "### Targets"
   ]
  },
  {
   "cell_type": "code",
   "execution_count": null,
   "metadata": {},
   "outputs": [],
   "source": [
    "# for each target column, plot line plot for each treatment plant\n",
    "\n",
    "for col in target_columns:\n",
    "    fig = go.Figure()\n",
    "    for tp_name in tp_names:\n",
    "        tp_df = grab_samples_df[grab_samples_df[\"ZONA\"] == tp_name]\n",
    "\n",
    "        tp_df.loc[:, \"Data di prelievo\"] = pd.to_datetime(\n",
    "            tp_df[\"Data di prelievo\"]\n",
    "        )\n",
    "        tp_df = tp_df.sort_values(\"Data di prelievo\")\n",
    "\n",
    "        # Add line trace\n",
    "        fig.add_trace(\n",
    "            go.Scatter(\n",
    "                x=tp_df[\"Data di prelievo\"],\n",
    "                y=tp_df[col],\n",
    "                mode=\"lines\",\n",
    "                name=tp_name,\n",
    "                showlegend=True,\n",
    "            )\n",
    "        )\n",
    "\n",
    "        # Add scatter traces for each label\n",
    "        for label in color_mapping.keys():\n",
    "            label_df = tp_df[tp_df[col + \"_label\"] == label]\n",
    "            fig.add_trace(\n",
    "                go.Scatter(\n",
    "                    x=label_df[\"Data di prelievo\"],\n",
    "                    y=label_df[col],\n",
    "                    mode=\"markers\",\n",
    "                    name=f\"{label}\",\n",
    "                    marker=dict(\n",
    "                        color=color_mapping[label],\n",
    "                        symbol=symbol_mapping[label],\n",
    "                    ),\n",
    "                    showlegend=True,\n",
    "                )\n",
    "            )\n",
    "\n",
    "\n",
    "    # get legend names\n",
    "    legend_names = []\n",
    "    for trace in fig.data:\n",
    "        legend_names.append(trace.name)\n",
    "    \n",
    "    # remove duplicate legend entries\n",
    "    names = set()\n",
    "    fig.for_each_trace(\n",
    "        lambda trace:\n",
    "            trace.update(showlegend=False)\n",
    "            if (trace.name in names) and (legend_names.count(trace.name) > 1) else names.add(trace.name))\n",
    "\n",
    "    fig.update_layout(title=col)\n",
    "    fig.show()"
   ]
  },
  {
   "cell_type": "markdown",
   "metadata": {},
   "source": [
    "## Boxplots"
   ]
  },
  {
   "cell_type": "markdown",
   "metadata": {},
   "source": [
    "### Features"
   ]
  },
  {
   "cell_type": "code",
   "execution_count": null,
   "metadata": {},
   "outputs": [],
   "source": [
    "# for each feature column, plot box plot for each treatment plant\n",
    "\n",
    "color_mapping = {\n",
    "    \"Less than\": \"red\",\n",
    "    \"Greater than\": \"green\",\n",
    "    \"Normal\": \"blue\",\n",
    "}\n",
    "\n",
    "for col in feature_columns:\n",
    "    for tp_name in tp_names:\n",
    "        tp_df = grab_samples_df[grab_samples_df[\"ZONA\"] == tp_name]\n",
    "        \n",
    "        count = tp_df[col].count()\n",
    "        total = tp_df[col].shape[0]\n",
    "\n",
    "        perc = count / total * 100\n",
    "\n",
    "        # remove outliers\n",
    "        k = 3\n",
    "        q1 = tp_df[col].quantile(0.25)\n",
    "        q3 = tp_df[col].quantile(0.75)\n",
    "        iqr = q3 - q1\n",
    "        lower_bound = q1 - k * iqr\n",
    "        upper_bound = q3 + k * iqr\n",
    "\n",
    "        # set outliers to None\n",
    "        tp_df.loc[tp_df[col] < lower_bound, col] = None\n",
    "        tp_df.loc[tp_df[col] > upper_bound, col] = None\n",
    "        \n",
    "        grab_samples_df.loc[grab_samples_df[\"ZONA\"] == tp_name, col] = tp_df[col]\n",
    "        \n",
    "    fig = px.strip(\n",
    "        grab_samples_df,\n",
    "        x=\"ZONA\",\n",
    "        y=col,\n",
    "        color=col + \"_label\",\n",
    "        title=col,\n",
    "        labels={col: col, \"ZONA\": \"Treatment Plant\"},\n",
    "        stripmode=\"overlay\",\n",
    "        color_discrete_map=color_mapping,\n",
    "    )\n",
    "    \n",
    "    for tp_name in tp_names:\n",
    "        tp_df = grab_samples_df[grab_samples_df[\"ZONA\"] == tp_name]\n",
    "        \n",
    "        fig.add_trace(\n",
    "            go.Box(\n",
    "                x=[tp_name] * len(tp_df[col]),\n",
    "                y=tp_df[col],\n",
    "                name=tp_name,\n",
    "\n",
    "            )\n",
    "        )\n",
    "\n",
    "\n",
    "    fig.update_layout(title=col)\n",
    "    fig.show()"
   ]
  },
  {
   "cell_type": "markdown",
   "metadata": {},
   "source": [
    "### Targets"
   ]
  },
  {
   "cell_type": "code",
   "execution_count": null,
   "metadata": {},
   "outputs": [],
   "source": [
    "# for each feature column, plot box plot for each treatment plant\n",
    "\n",
    "color_mapping = {\n",
    "    \"Less than\": \"red\",\n",
    "    \"Greater than\": \"green\",\n",
    "    \"Normal\": \"blue\",\n",
    "}\n",
    "\n",
    "for col in target_columns:\n",
    "    for tp_name in tp_names:\n",
    "        tp_df = grab_samples_df[grab_samples_df[\"ZONA\"] == tp_name]\n",
    "        \n",
    "        count = tp_df[col].count()\n",
    "        total = tp_df[col].shape[0]\n",
    "\n",
    "        perc = count / total * 100\n",
    "\n",
    "        # remove outliers\n",
    "        k = 3\n",
    "        q1 = tp_df[col].quantile(0.25)\n",
    "        q3 = tp_df[col].quantile(0.75)\n",
    "        iqr = q3 - q1\n",
    "        lower_bound = q1 - k * iqr\n",
    "        upper_bound = q3 + k * iqr\n",
    "\n",
    "        # set outliers to None\n",
    "        tp_df.loc[tp_df[col] < lower_bound, col] = None\n",
    "        tp_df.loc[tp_df[col] > upper_bound, col] = None\n",
    "        \n",
    "        grab_samples_df.loc[grab_samples_df[\"ZONA\"] == tp_name, col] = tp_df[col]\n",
    "        \n",
    "    fig = px.strip(\n",
    "        grab_samples_df,\n",
    "        x=\"ZONA\",\n",
    "        y=col,\n",
    "        color=col + \"_label\",\n",
    "        title=col,\n",
    "        labels={col: col, \"ZONA\": \"Treatment Plant\"},\n",
    "        stripmode=\"overlay\",\n",
    "        color_discrete_map=color_mapping,\n",
    "    )\n",
    "    \n",
    "    for tp_name in tp_names:\n",
    "        tp_df = grab_samples_df[grab_samples_df[\"ZONA\"] == tp_name]\n",
    "        \n",
    "        fig.add_trace(\n",
    "            go.Box(\n",
    "                x=[tp_name] * len(tp_df[col]),\n",
    "                y=tp_df[col],\n",
    "                name=tp_name,\n",
    "\n",
    "            )\n",
    "        )\n",
    "\n",
    "\n",
    "    fig.update_layout(title=col)\n",
    "    fig.show()"
   ]
  }
 ],
 "metadata": {
  "kernelspec": {
   "display_name": "safecrew-3OLHM_8n-py3.12",
   "language": "python",
   "name": "python3"
  },
  "language_info": {
   "codemirror_mode": {
    "name": "ipython",
    "version": 3
   },
   "file_extension": ".py",
   "mimetype": "text/x-python",
   "name": "python",
   "nbconvert_exporter": "python",
   "pygments_lexer": "ipython3",
   "version": "3.12.2"
  }
 },
 "nbformat": 4,
 "nbformat_minor": 2
}
