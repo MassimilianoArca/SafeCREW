{
 "cells": [
  {
   "cell_type": "markdown",
   "metadata": {},
   "source": [
    "# Supply Points Analysis between Grab and Sensors"
   ]
  },
  {
   "cell_type": "code",
   "execution_count": 8,
   "metadata": {},
   "outputs": [],
   "source": [
    "import os\n",
    "import json\n",
    "import pandas as pd\n",
    "import plotly.graph_objects as go"
   ]
  },
  {
   "cell_type": "code",
   "execution_count": 9,
   "metadata": {},
   "outputs": [],
   "source": [
    "utils_folder = os.path.join('..', '..', 'utils')\n",
    "\n",
    "data_folder = os.path.join('..', '..', 'data')\n",
    "clean_data_folder = os.path.join(data_folder, 'Clean Data')\n",
    "metadata_folder = os.path.join(data_folder, 'Metadata')\n",
    "\n",
    "sensor_folder = os.path.join(clean_data_folder, 'sensors')"
   ]
  },
  {
   "cell_type": "markdown",
   "metadata": {},
   "source": [
    "# Load Data"
   ]
  },
  {
   "cell_type": "code",
   "execution_count": 10,
   "metadata": {},
   "outputs": [],
   "source": [
    "grab_df = pd.read_excel(os.path.join(clean_data_folder, 'grab.xlsx'))"
   ]
  },
  {
   "cell_type": "code",
   "execution_count": 11,
   "metadata": {},
   "outputs": [],
   "source": [
    "sensor_dict = {}\n",
    "\n",
    "for file in os.listdir(sensor_folder):\n",
    "    if file.endswith('.xlsx'):\n",
    "        sensor_dict[file.split('.')[0]] = pd.read_excel(os.path.join(sensor_folder, file))"
   ]
  },
  {
   "cell_type": "code",
   "execution_count": 12,
   "metadata": {},
   "outputs": [],
   "source": [
    "with open(os.path.join(utils_folder, \"columns_types.json\")) as f:\n",
    "    column_types = json.load(f)\n",
    "    \n",
    "metadata_columns = column_types[\"metadata_columns\"]\n",
    "features_columns = column_types[\"features_columns\"]\n",
    "targets_columns = column_types[\"targets_columns\"]"
   ]
  },
  {
   "cell_type": "code",
   "execution_count": null,
   "metadata": {},
   "outputs": [],
   "source": [
    "grab_df"
   ]
  },
  {
   "cell_type": "code",
   "execution_count": 14,
   "metadata": {},
   "outputs": [],
   "source": [
    "grab_df.rename(\n",
    "    columns={\n",
    "        'Punto di prelievo': 'Code',\n",
    "        'Data di prelievo': 'DateTime'\n",
    "    },\n",
    "    inplace=True\n",
    ")"
   ]
  },
  {
   "cell_type": "code",
   "execution_count": 15,
   "metadata": {},
   "outputs": [],
   "source": [
    "# rename grab columns\n",
    "feature_mapping = {\n",
    "    \"Cloro residuo libero (al prelievo) (mg/L di Cl2)\": \"Free Chlorine (mg/l)\",\n",
    "    \"Colore (Cu)\": \"Color (CU)\",\n",
    "    \"Concentr. ioni idrogeno (al prelievo) (unità pH)\": \"pH\",\n",
    "    \"Conduttività a 20°C (µS/cm)\": \"Conductivity (uS/cm)\",\n",
    "    \"TOC - carbonio organico totale (mg/L di C)\": \"TOC (mg/l)\",\n",
    "    \"Temperatura (al prelievo) (°C)\": \"Temperature (°C)\",\n",
    "    \"Torbidità (NTu)\": \"Turbidity (FTU)\",\n",
    "    \"Nitrati (mg/L)\": \"Nitrate (mg/l)\",\n",
    "    \n",
    "}\n",
    "\n",
    "targets_mapping = {\n",
    "    \"Batteri coliformi a 37°C (MPN/100 mL)\": \"Coliforms (MPN/100ml)\",\n",
    "    \"Bromodiclorometano (µg/L)\": \"Bromodichloromethane (µg/l)\",\n",
    "    \"Bromoformio (µg/L)\": \"Bromoform (µg/l)\",\n",
    "    \"Cloroformio (µg/L)\": \"Chloroform (µg/l)\",\n",
    "    \"Conta delle colonie a 22°C (UFC/mL)\": \"Colony count at 22°C (UFC/ml)\",\n",
    "    \"Dibromoclorometano (µg/L)\": \"Dibromochloromethane (µg/l)\",\n",
    "    \"Enterococchi (MPN/100 mL)\": \"Enterococci (MPN/100ml)\",\n",
    "    \"Escherichia coli (MPN/100 mL)\": \"Escherichia coli (MPN/100ml)\",\n",
    "    \"Pseudomonas aeruginosa (UFC/250 mL)\": \"Pseudomonas aeruginosa (UFC/250ml)\",\n",
    "    \"Acido Perfluoroottanoico PFOA (µg/L)\": \"Perfluorooctanoic acid PFOA (µg/l)\",\n",
    "    \"Acido Perfluoroottansolfonico PFOS (µg/L)\": \"Perfluorooctanesulfonic acid PFOS (µg/l)\",\n",
    "    \"Somma di PFAS (µg/L)\": \"Sum of PFAS (µg/l)\",\n",
    "}"
   ]
  },
  {
   "cell_type": "code",
   "execution_count": 16,
   "metadata": {},
   "outputs": [],
   "source": [
    "# rename grab_df columns that contain features\n",
    "for column in grab_df.columns:\n",
    "    if column in feature_mapping:\n",
    "        grab_df.rename(columns={column: feature_mapping[column]}, inplace=True)\n",
    "        \n",
    "    if column in targets_mapping:\n",
    "        grab_df.rename(columns={column: targets_mapping[column]}, inplace=True)\n",
    "        \n",
    "    if len(column.split('_')) > 1:\n",
    "        if column.split('_')[0] in feature_mapping:\n",
    "            new_name = feature_mapping[column.split('_')[0]]\n",
    "            new_name = new_name + ' ' + column.split('_')[1]\n",
    "            grab_df.rename(columns={column: new_name}, inplace=True)\n",
    "            \n",
    "        if column.split('_')[0] in targets_mapping:\n",
    "            new_name = targets_mapping[column.split('_')[0]]\n",
    "            new_name = new_name + '_' + column.split('_')[1]\n",
    "            grab_df.rename(columns={column: new_name}, inplace=True)"
   ]
  },
  {
   "cell_type": "code",
   "execution_count": null,
   "metadata": {},
   "outputs": [],
   "source": [
    "grab_df"
   ]
  },
  {
   "cell_type": "markdown",
   "metadata": {},
   "source": [
    "# Metadata Info"
   ]
  },
  {
   "cell_type": "markdown",
   "metadata": {},
   "source": [
    "## Grab"
   ]
  },
  {
   "cell_type": "code",
   "execution_count": 18,
   "metadata": {},
   "outputs": [],
   "source": [
    "feature_df = pd.DataFrame(\n",
    "    columns=pd.MultiIndex.from_product([feature_mapping.values(), ['N° Data', 'N° Missing', 'Mean', 'Std']]),\n",
    "    index=grab_df['Code'].unique()\n",
    ")"
   ]
  },
  {
   "cell_type": "code",
   "execution_count": 19,
   "metadata": {},
   "outputs": [],
   "source": [
    "for code in grab_df['Code'].unique():\n",
    "    for feature in feature_mapping.values():\n",
    "        feature_df.loc[code, (feature, 'N° Data')] = grab_df[grab_df['Code'] == code][feature].count()\n",
    "        feature_df.loc[code, (feature, 'N° Missing')] = grab_df[grab_df['Code'] == code][feature].isna().sum()\n",
    "        feature_df.loc[code, (feature, 'Mean')] = grab_df[grab_df['Code'] == code][feature].mean()\n",
    "        feature_df.loc[code, (feature, 'Std')] = grab_df[grab_df['Code'] == code][feature].std()"
   ]
  },
  {
   "cell_type": "code",
   "execution_count": null,
   "metadata": {},
   "outputs": [],
   "source": [
    "feature_df"
   ]
  },
  {
   "cell_type": "code",
   "execution_count": 21,
   "metadata": {},
   "outputs": [],
   "source": [
    "targets_df = pd.DataFrame(\n",
    "    columns=pd.MultiIndex.from_product([targets_mapping.values(), ['N° Data', 'N° Missing', 'Mean', 'Std']]),\n",
    "    index=grab_df['Code'].unique()\n",
    ")"
   ]
  },
  {
   "cell_type": "code",
   "execution_count": 22,
   "metadata": {},
   "outputs": [],
   "source": [
    "for code in grab_df['Code'].unique():\n",
    "    for target in targets_mapping.values():\n",
    "        targets_df.loc[code, (target, 'N° Data')] = grab_df[grab_df['Code'] == code][target].count()\n",
    "        targets_df.loc[code, (target, 'N° Missing')] = grab_df[grab_df['Code'] == code][target].isna().sum()\n",
    "        targets_df.loc[code, (target, 'Mean')] = grab_df[grab_df['Code'] == code][target].mean()\n",
    "        targets_df.loc[code, (target, 'Std')] = grab_df[grab_df['Code'] == code][target].std()"
   ]
  },
  {
   "cell_type": "code",
   "execution_count": null,
   "metadata": {},
   "outputs": [],
   "source": [
    "targets_df"
   ]
  },
  {
   "cell_type": "code",
   "execution_count": 24,
   "metadata": {},
   "outputs": [],
   "source": [
    "%%script false --no-raise-error\n",
    "feature_df.to_excel(\n",
    "    os.path.join(metadata_folder, 'Grab', 'features.xlsx')\n",
    ")\n",
    "\n",
    "targets_df.to_excel(\n",
    "    os.path.join(metadata_folder, 'Grab', 'targets.xlsx')\n",
    ")"
   ]
  },
  {
   "cell_type": "markdown",
   "metadata": {},
   "source": [
    "## Sensor"
   ]
  },
  {
   "cell_type": "code",
   "execution_count": 25,
   "metadata": {},
   "outputs": [],
   "source": [
    "### Fix Conductivity name\n",
    "for sensor in sensor_dict:\n",
    "    sensor_dict[sensor].rename(columns={'Conductivity (μS/cm)': 'Conductivity (uS/cm)'}, inplace=True)"
   ]
  },
  {
   "cell_type": "code",
   "execution_count": 26,
   "metadata": {},
   "outputs": [],
   "source": [
    "sensor_columns = sensor_dict['Berna'].columns.difference(['DateTime'])"
   ]
  },
  {
   "cell_type": "code",
   "execution_count": 27,
   "metadata": {},
   "outputs": [],
   "source": [
    "sensors_df = pd.DataFrame(\n",
    "    columns=pd.MultiIndex.from_product([sensor_columns, ['Mean', 'Std']]),\n",
    "    index=list(sensor_dict.keys())\n",
    ")"
   ]
  },
  {
   "cell_type": "code",
   "execution_count": 28,
   "metadata": {},
   "outputs": [],
   "source": [
    "for sensor in sensor_dict.keys():\n",
    "    for column in sensor_columns:\n",
    "        sensors_df.loc[sensor, (column, 'Mean')] = sensor_dict[sensor][column].mean()\n",
    "        sensors_df.loc[sensor, (column, 'Std')] = sensor_dict[sensor][column].std()"
   ]
  },
  {
   "cell_type": "code",
   "execution_count": null,
   "metadata": {},
   "outputs": [],
   "source": [
    "sensors_df"
   ]
  },
  {
   "cell_type": "code",
   "execution_count": 30,
   "metadata": {},
   "outputs": [],
   "source": [
    "sensors_df.to_excel(\n",
    "    os.path.join(metadata_folder, 'Sensor', 'sensors.xlsx')\n",
    ")"
   ]
  },
  {
   "cell_type": "markdown",
   "metadata": {},
   "source": [
    "# Time Series Comparison"
   ]
  },
  {
   "cell_type": "code",
   "execution_count": null,
   "metadata": {},
   "outputs": [],
   "source": [
    "# plot the time series of the sensors and the grab data\n",
    "\n",
    "for code in grab_df['Code'].unique():\n",
    "    for feature in feature_mapping.values():\n",
    "        \n",
    "        g_df = grab_df[grab_df['Code'] == code].copy()\n",
    "        \n",
    "        s_df = sensor_dict[code].copy()\n",
    "        \n",
    "        fig = go.Figure()\n",
    "        \n",
    "        fig.add_trace(\n",
    "            go.Scatter(\n",
    "                x=g_df['DateTime'],\n",
    "                y=g_df[feature],\n",
    "                mode='markers',\n",
    "                name='Grab'\n",
    "            )\n",
    "        )\n",
    "        \n",
    "        fig.add_trace(\n",
    "            go.Scatter(\n",
    "                x=s_df['DateTime'],\n",
    "                y=s_df[feature],\n",
    "                mode='lines',\n",
    "                name='Sensor'\n",
    "            )\n",
    "        )\n",
    "        \n",
    "        fig.update_layout(\n",
    "            title=f'{code} - {feature}',\n",
    "            xaxis_title='DateTime',\n",
    "            yaxis_title=feature\n",
    "        )\n",
    "        \n",
    "        fig.show()\n",
    "        \n",
    "        \n",
    "        \n",
    "        "
   ]
  },
  {
   "cell_type": "markdown",
   "metadata": {},
   "source": [
    "# Boxplot Comparison "
   ]
  },
  {
   "cell_type": "code",
   "execution_count": null,
   "metadata": {},
   "outputs": [],
   "source": [
    "# plot the box plot of grab data and sensor data\n",
    "\n",
    "for code in grab_df['Code'].unique():\n",
    "    for feature in feature_mapping.values():\n",
    "        \n",
    "        g_df = grab_df[grab_df['Code'] == code].copy()\n",
    "        \n",
    "        s_df = sensor_dict[code].copy()\n",
    "        \n",
    "        # resample the sensor data\n",
    "        s_df['DateTime'] = pd.to_datetime(s_df['DateTime'])\n",
    "        s_df.set_index('DateTime', inplace=True)\n",
    "        s_df = s_df.resample('D').mean().reset_index()\n",
    "        \n",
    "        if feature == 'Free Chlorine (mg/l)':\n",
    "            s_df = s_df[s_df[feature] < 5]\n",
    "            \n",
    "        if feature == 'TOC (mg/l)':\n",
    "            s_df = s_df[s_df[feature] < 2]\n",
    "            \n",
    "        if feature == 'Turbidity (FTU)':\n",
    "            s_df = s_df[s_df[feature] < 1.5]\n",
    "        \n",
    "        fig = go.Figure()\n",
    "        \n",
    "        fig.add_trace(\n",
    "            go.Box(\n",
    "                y=g_df[feature],\n",
    "                name='Grab'\n",
    "            )\n",
    "        )\n",
    "        \n",
    "        fig.add_trace(\n",
    "            go.Box(\n",
    "                y=s_df[feature],\n",
    "                name='Sensor'\n",
    "            )\n",
    "        )\n",
    "        \n",
    "        fig.update_layout(\n",
    "            title=f'{code} - {feature}',\n",
    "            yaxis_title=feature\n",
    "        )\n",
    "        \n",
    "        if code == 'Tabacchi':\n",
    "            fig.show(\n",
    "                renderer='svg',\n",
    "                width=800,\n",
    "            )\n",
    "            \n",
    "        if code == 'Montevideo':\n",
    "            fig.show(\n",
    "                renderer='svg',\n",
    "                width=800,\n",
    "            )\n",
    "        "
   ]
  },
  {
   "cell_type": "code",
   "execution_count": 33,
   "metadata": {},
   "outputs": [],
   "source": [
    "for feature in feature_mapping.values():\n",
    "    \n",
    "    # resample the sensor data\n",
    "    s_df['DateTime'] = pd.to_datetime(s_df['DateTime'])\n",
    "    s_df.set_index('DateTime', inplace=True)\n",
    "    s_df = s_df.resample('D').mean().reset_index()\n",
    "    \n",
    "    if feature == 'Free Chlorine (mg/l)':\n",
    "        s_df = s_df[s_df[feature] < 5]\n",
    "        \n",
    "    if feature == 'TOC (mg/l)':\n",
    "        s_df = s_df[s_df[feature] < 2]\n",
    "        \n",
    "    if feature == 'Turbidity (FTU)':\n",
    "        s_df = s_df[s_df[feature] < 1.5]\n",
    "    \n",
    "    fig = go.Figure()\n",
    "    \n",
    "    fig.add_trace(\n",
    "        go.Box(\n",
    "            y=s_df[feature],\n",
    "            name='Sensor'\n",
    "        )\n",
    "    )\n",
    "    \n",
    "    fig.update_layout(\n",
    "        title=f'{feature}',\n",
    "        yaxis_title=feature\n",
    "    )\n",
    "    \n",
    "    feature_ = feature.replace('/', '_')\n",
    "    \n",
    "    fig.write_image(\n",
    "        os.path.join(metadata_folder, 'Sensor', f'{feature_}.png')\n",
    "    )\n",
    "    "
   ]
  }
 ],
 "metadata": {
  "kernelspec": {
   "display_name": "safecrew-3OLHM_8n-py3.12",
   "language": "python",
   "name": "python3"
  },
  "language_info": {
   "codemirror_mode": {
    "name": "ipython",
    "version": 3
   },
   "file_extension": ".py",
   "mimetype": "text/x-python",
   "name": "python",
   "nbconvert_exporter": "python",
   "pygments_lexer": "ipython3",
   "version": "3.12.6"
  }
 },
 "nbformat": 4,
 "nbformat_minor": 2
}
