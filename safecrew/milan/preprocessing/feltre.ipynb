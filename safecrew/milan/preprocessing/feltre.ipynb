{
 "cells": [
  {
   "cell_type": "markdown",
   "metadata": {},
   "source": [
    "# Feltre Sensor Data Preprocessing"
   ]
  },
  {
   "cell_type": "code",
   "execution_count": 1,
   "metadata": {},
   "outputs": [],
   "source": [
    "import os\n",
    "\n",
    "import pandas as pd\n",
    "import numpy as np\n",
    "\n",
    "import plotly.graph_objects as go\n",
    "from plotly.subplots import make_subplots"
   ]
  },
  {
   "cell_type": "code",
   "execution_count": 2,
   "metadata": {},
   "outputs": [],
   "source": [
    "utils_folder = os.path.join(\"..\", \"..\", \"utils\")\n",
    "\n",
    "with open(os.path.join(utils_folder, \"onedrive.txt\"), \"r\") as f:\n",
    "    cloud_data_folder = os.path.join(f.readline().strip(), \"Centrali\")\n",
    "\n",
    "sensor_folder = os.path.join(cloud_data_folder, \"Sensori\")\n",
    "feltre_folder = os.path.join(sensor_folder, \"Feltre\")\n",
    "probe_folder = os.path.join(feltre_folder, \"Sonde\")\n",
    "cytometer_folder = os.path.join(probe_folder, \"Citometro\")\n",
    "multiparam_folder = os.path.join(probe_folder, \"Multiparametrica\")"
   ]
  },
  {
   "cell_type": "markdown",
   "metadata": {},
   "source": [
    "## Cytometer"
   ]
  },
  {
   "cell_type": "code",
   "execution_count": 3,
   "metadata": {},
   "outputs": [],
   "source": [
    "# Load cytometer data\n",
    "\n",
    "cytometer_files = [f for f in os.listdir(cytometer_folder) if f.endswith(\".xlsx\")]\n",
    "\n",
    "auto_cytometer_df = pd.DataFrame()\n",
    "error_cytometer_df = pd.DataFrame()\n",
    "\n",
    "for cytometer_file in cytometer_files:\n",
    "    \n",
    "    if \"auto\" in cytometer_file:\n",
    "        if auto_cytometer_df.empty:\n",
    "            auto_cytometer_df = pd.read_excel(os.path.join(cytometer_folder, cytometer_file))\n",
    "        else:\n",
    "            auto_cytometer_df = pd.concat([auto_cytometer_df, pd.read_excel(os.path.join(cytometer_folder, cytometer_file))])\n",
    "        \n",
    "    elif \"error\" in cytometer_file:\n",
    "        if error_cytometer_df.empty:\n",
    "            error_cytometer_df = pd.read_excel(os.path.join(cytometer_folder, cytometer_file))\n",
    "        else:\n",
    "            error_cytometer_df = pd.concat([error_cytometer_df, pd.read_excel(os.path.join(cytometer_folder, cytometer_file))])"
   ]
  },
  {
   "cell_type": "code",
   "execution_count": null,
   "metadata": {},
   "outputs": [],
   "source": [
    "error_cytometer_df.head(10)"
   ]
  },
  {
   "cell_type": "code",
   "execution_count": null,
   "metadata": {},
   "outputs": [],
   "source": [
    "auto_cytometer_df.head(10)"
   ]
  },
  {
   "cell_type": "code",
   "execution_count": null,
   "metadata": {},
   "outputs": [],
   "source": [
    "# check if there are common dates between the two dataframes\n",
    "common_dates = np.intersect1d(auto_cytometer_df[\"Date [local]\"], error_cytometer_df[\"Date [local]\"])\n",
    "common_dates"
   ]
  },
  {
   "cell_type": "code",
   "execution_count": 7,
   "metadata": {},
   "outputs": [],
   "source": [
    "# no common dates, so the error dataframe is not useful as the auto dataframe already removes the errors"
   ]
  },
  {
   "cell_type": "markdown",
   "metadata": {},
   "source": [
    "## Multiparam"
   ]
  },
  {
   "cell_type": "code",
   "execution_count": 8,
   "metadata": {},
   "outputs": [],
   "source": [
    "multiparam_files = [f for f in os.listdir(multiparam_folder) if f.endswith(\".csv\")]\n",
    "\n",
    "param_df = pd.DataFrame()\n",
    "spectro_df = pd.DataFrame()\n",
    "\n",
    "for multiparam_file in multiparam_files:\n",
    "\n",
    "    if 'par' in multiparam_file:\n",
    "        if param_df.empty:\n",
    "            param_df = pd.read_csv(os.path.join(multiparam_folder, multiparam_file), sep=\";\", header=1)\n",
    "        else:\n",
    "            param_df = pd.concat([param_df, pd.read_csv(os.path.join(multiparam_folder, multiparam_file), sep=\";\", header=1)])\n",
    "            \n",
    "    elif 'spec' in multiparam_file:\n",
    "        if spectro_df.empty:\n",
    "            spectro_df = pd.read_csv(os.path.join(multiparam_folder, multiparam_file), sep=\";\", header=1)\n",
    "        else:\n",
    "            spectro_df = pd.concat([spectro_df, pd.read_csv(os.path.join(multiparam_folder, multiparam_file), sep=\";\", header=1)])\n",
    "            "
   ]
  },
  {
   "cell_type": "markdown",
   "metadata": {},
   "source": [
    "# Clean Data"
   ]
  },
  {
   "cell_type": "markdown",
   "metadata": {},
   "source": [
    "## Cytometer"
   ]
  },
  {
   "cell_type": "code",
   "execution_count": 9,
   "metadata": {},
   "outputs": [],
   "source": [
    "cyto_df = auto_cytometer_df"
   ]
  },
  {
   "cell_type": "code",
   "execution_count": null,
   "metadata": {},
   "outputs": [],
   "source": [
    "cyto_df.columns.to_list()"
   ]
  },
  {
   "cell_type": "code",
   "execution_count": 11,
   "metadata": {},
   "outputs": [],
   "source": [
    "cyto_df.drop(\n",
    "    columns=[\n",
    "        'Timestamp',\n",
    "        'Date [local]',\n",
    "        'Date [GMT]',\n",
    "        'Instrument Name',\n",
    "        'Instrument SN',\n",
    "        'Mode',\n",
    "        'Name',\n",
    "        'Protocol',\n",
    "        'TCC [1/mL]',\n",
    "        'GATE+ [1/mL]',\n",
    "        'ACC [1/mL]',\n",
    "        'HACC [1/mL]',\n",
    "        'LACC [1/mL]',\n",
    "        'HACP [%]',\n",
    "        'Cartridge Fill',\n",
    "    ],\n",
    "    inplace=True\n",
    ")"
   ]
  },
  {
   "cell_type": "code",
   "execution_count": null,
   "metadata": {},
   "outputs": [],
   "source": [
    "cyto_df"
   ]
  },
  {
   "cell_type": "code",
   "execution_count": 13,
   "metadata": {},
   "outputs": [],
   "source": [
    "cyto_df.rename(\n",
    "    columns={\n",
    "        'Sampling Date [local]': 'DateTime',\n",
    "    },\n",
    "    inplace=True\n",
    ")"
   ]
  },
  {
   "cell_type": "markdown",
   "metadata": {},
   "source": [
    "## Multiparam"
   ]
  },
  {
   "cell_type": "code",
   "execution_count": null,
   "metadata": {},
   "outputs": [],
   "source": [
    "param_df"
   ]
  },
  {
   "cell_type": "code",
   "execution_count": null,
   "metadata": {},
   "outputs": [],
   "source": [
    "spectro_df"
   ]
  },
  {
   "cell_type": "code",
   "execution_count": null,
   "metadata": {},
   "outputs": [],
   "source": [
    "param_df.columns.to_list()"
   ]
  },
  {
   "cell_type": "code",
   "execution_count": null,
   "metadata": {},
   "outputs": [],
   "source": [
    "spectro_df.columns.to_list()"
   ]
  },
  {
   "cell_type": "code",
   "execution_count": 18,
   "metadata": {},
   "outputs": [],
   "source": [
    "# Need to keep just the measured values as we would build online soft sensors for them\n",
    "params_columns_to_drop = [col for col in param_df.columns if 'Clean' in col]\n",
    "params_columns_to_drop.append('Status')\n",
    "params_columns_to_drop.append('Temperature - Measured value [°C] (Limit:0.00-45.00_Coefs:0.00 0.00 0.00 0.00)')\n",
    "\n",
    "# remove all the wavelenghts that are not the 254nm one\n",
    "spectro_columns_to_drop = [col for col in spectro_df.columns if '254' not in col]\n",
    "spectro_columns_to_drop.remove('Measurement interval=900[sec] (Export-Aggregation disabled)')\n",
    "spectro_columns_to_drop.append('Status (Source:0)')\n",
    "\n",
    "param_df.drop(columns=params_columns_to_drop, inplace=True)\n",
    "spectro_df.drop(columns=spectro_columns_to_drop, inplace=True)"
   ]
  },
  {
   "cell_type": "code",
   "execution_count": null,
   "metadata": {},
   "outputs": [],
   "source": [
    "param_df.describe().T"
   ]
  },
  {
   "cell_type": "code",
   "execution_count": 20,
   "metadata": {},
   "outputs": [],
   "source": [
    "# remove the columns with all NaN values and a small amount of valid values\n",
    "param_df.drop(\n",
    "    columns=[\n",
    "        'Total Chlorine - Measured value [mg/l] (Limit:0.00-2.00_Coefs:0.00 1.00 0.00 0.00)',\n",
    "        'pH - Measured value (Limit:0.00-14.00_Coefs:-2.40 0.97 0.00 0.00)',\n",
    "    ],\n",
    "    inplace=True\n",
    ")"
   ]
  },
  {
   "cell_type": "code",
   "execution_count": null,
   "metadata": {},
   "outputs": [],
   "source": [
    "param_df.isna().sum()"
   ]
  },
  {
   "cell_type": "code",
   "execution_count": 22,
   "metadata": {},
   "outputs": [],
   "source": [
    "param_df.drop(\n",
    "    columns=[\n",
    "        'Temperature - Measured value [C] (Limit:-5.00-100.00_Coefs:-0.40 1.00 0.00 0.00)',\n",
    "        'Status [Temperature - Measured value].1',\n",
    "        'Status [Temperature - Measured value].2',\n",
    "        'Status [Total Chlorine - Measured value]'\n",
    "    ],\n",
    "    inplace=True\n",
    ")"
   ]
  },
  {
   "cell_type": "code",
   "execution_count": null,
   "metadata": {},
   "outputs": [],
   "source": [
    "spectro_df.describe().T"
   ]
  },
  {
   "cell_type": "code",
   "execution_count": null,
   "metadata": {},
   "outputs": [],
   "source": [
    "spectro_df.isna().sum()"
   ]
  },
  {
   "cell_type": "markdown",
   "metadata": {},
   "source": [
    "# Preliminary Insights"
   ]
  },
  {
   "cell_type": "markdown",
   "metadata": {},
   "source": [
    "## Cytometer\n",
    "\n",
    "* BactoSense: misurazioni di:\n",
    "    * ICC [1/mL]: concentrazione di cellule intatte\n",
    "    * HNAC [1/mL]: concentrazione di cellule ad alto contenuto di acido nucleico\n",
    "    * LNAC [1/mL]: concentrazione di cellule a basso contenuto di acido nucleico\n",
    "    * HNAP [%]: frazione di ICC costituita da cellule ad alto contenuto di acido nucleico\n",
    "    * TCC [1/mL] (no valori)\n",
    "    * GATE+ [1/mL] (no valori)\n",
    "    * ACC [1/mL] (no valori)\n",
    "    * HACC [1/mL] (no valori)\n",
    "    * LACC [1/mL] (no valori)\n",
    "    * HACP [%] (no valori)"
   ]
  },
  {
   "cell_type": "code",
   "execution_count": 25,
   "metadata": {},
   "outputs": [],
   "source": [
    "measurement_columns = [\n",
    "    'ICC [1/mL]',\n",
    "    'HNAC [1/mL]',\n",
    "    'LNAC [1/mL]',\n",
    "    'HNAP [%]',\n",
    "]"
   ]
  },
  {
   "cell_type": "code",
   "execution_count": null,
   "metadata": {},
   "outputs": [],
   "source": [
    "for col in measurement_columns:\n",
    "    \n",
    "    fig = go.Figure()\n",
    "    \n",
    "    fig.add_trace(\n",
    "        go.Scatter(\n",
    "            x=cyto_df[\"DateTime\"],\n",
    "            y=cyto_df[col],\n",
    "            mode='lines',\n",
    "            name=col,\n",
    "        )\n",
    "    )\n",
    "    \n",
    "    warning_df = cyto_df[cyto_df['Warnings'].notna()]\n",
    "    \n",
    "    if not warning_df.empty:\n",
    "        fig.add_trace(\n",
    "            go.Scatter(\n",
    "                x=warning_df[\"DateTime\"],\n",
    "                y=warning_df[col],\n",
    "                mode='markers',\n",
    "                marker=dict(color='red'),\n",
    "                name='Warnings',\n",
    "            )\n",
    "        )\n",
    "    \n",
    "    fig.update_layout(\n",
    "        title=col,\n",
    "        xaxis_title=\"DateTime\",\n",
    "        yaxis_title=col,\n",
    "    )\n",
    "    \n",
    "    fig.show()\n",
    "    "
   ]
  },
  {
   "cell_type": "markdown",
   "metadata": {},
   "source": [
    "## Multiparam"
   ]
  },
  {
   "cell_type": "code",
   "execution_count": 27,
   "metadata": {},
   "outputs": [],
   "source": [
    "param_df.rename(\n",
    "    columns={\n",
    "        'Measurement interval=900[sec] (Export-Aggregation disabled)': 'DateTime',\n",
    "    },\n",
    "    inplace=True\n",
    ")"
   ]
  },
  {
   "cell_type": "code",
   "execution_count": 28,
   "metadata": {},
   "outputs": [],
   "source": [
    "param_df['DateTime'] = pd.to_datetime(param_df['DateTime'])"
   ]
  },
  {
   "cell_type": "code",
   "execution_count": 29,
   "metadata": {},
   "outputs": [],
   "source": [
    "param_df.sort_values(by='DateTime', inplace=True)"
   ]
  },
  {
   "cell_type": "code",
   "execution_count": 30,
   "metadata": {},
   "outputs": [],
   "source": [
    "def rename_columns(columns):\n",
    "    \n",
    "    new_columns = [col.split(']')[0] + ']' for col in columns]\n",
    "    \n",
    "    new_columns = [col.split('(')[0] if 'Limit' in col else col for col in new_columns]\n",
    "    \n",
    "    for col in new_columns:\n",
    "        if 'Result' in col:\n",
    "            new_columns[new_columns.index(col)] = col.replace(' - Result', '')\n",
    "        \n",
    "        if ' - Measured value' in col:\n",
    "            new_columns[new_columns.index(col)] = col.replace(' - Measured value', '')\n",
    "            \n",
    "    for col in new_columns:\n",
    "        if col == 'pH ':\n",
    "            new_columns[new_columns.index(col)] = 'pH'\n",
    "        \n",
    "        # TODO add unit of measure to the column name\n",
    "        if col == 'UV254 ':\n",
    "            new_columns[new_columns.index(col)] = 'UV254'\n",
    "        \n",
    "        if col == 'nitrati ':\n",
    "            new_columns[new_columns.index(col)] = 'nitrati'\n",
    "        \n",
    "        if col == 'nitriti ':\n",
    "            new_columns[new_columns.index(col)] = 'nitriti'\n",
    "        \n",
    "    return new_columns\n",
    "    "
   ]
  },
  {
   "cell_type": "code",
   "execution_count": 31,
   "metadata": {},
   "outputs": [],
   "source": [
    "dt_column = param_df['DateTime']\n",
    "param_df.drop(columns='DateTime', inplace=True)\n",
    "\n",
    "param_df.columns = rename_columns(param_df.columns)\n",
    "\n",
    "param_df['DateTime'] = dt_column"
   ]
  },
  {
   "cell_type": "code",
   "execution_count": null,
   "metadata": {},
   "outputs": [],
   "source": [
    "param_df.columns.to_list()"
   ]
  },
  {
   "cell_type": "code",
   "execution_count": null,
   "metadata": {},
   "outputs": [],
   "source": [
    "for column in param_df.columns:\n",
    "    \n",
    "    if  (column == 'DateTime') or ('Status' in column):\n",
    "        continue\n",
    "    \n",
    "    fig = go.Figure()\n",
    "    \n",
    "    fig.add_trace(\n",
    "        go.Scatter(\n",
    "            x=param_df[\"DateTime\"],\n",
    "            y=param_df[column],\n",
    "            mode='lines',\n",
    "            name=column,\n",
    "        )\n",
    "    )\n",
    "    \n",
    "    # make the NaN values red\n",
    "    nan_df = param_df[param_df[column].isna()]\n",
    "    \n",
    "    # make error values brown\n",
    "    \n",
    "    # TODO provvisorio, da sistemare dopo aver capito le unità di misura\n",
    "    \n",
    "    \n",
    "    status_col = 'Status [' + column.split(' [')[0] + ']'\n",
    "    error_df = param_df[param_df[status_col].str.contains('Error', na=False)]\n",
    "    \n",
    "    if not error_df.empty:\n",
    "        for index, row in error_df.iterrows():\n",
    "            fig.add_vline(x=row['DateTime'], line=dict(color='yellow', width=0.5))\n",
    "            \n",
    "        fig.add_trace(\n",
    "            go.Scatter(\n",
    "                x=[None],\n",
    "                y=[None],\n",
    "                mode='lines',\n",
    "                marker=dict(color='yellow'),\n",
    "                name='Error',\n",
    "            )\n",
    "        )\n",
    "    \n",
    "    if not nan_df.empty:\n",
    "        for index, row in nan_df.iterrows():\n",
    "            fig.add_vline(x=row['DateTime'], line=dict(color='red', width=0.5))\n",
    "            \n",
    "        # add a legend for the NaN values\n",
    "        fig.add_trace(\n",
    "            go.Scatter(\n",
    "                x=[None],\n",
    "                y=[None],\n",
    "                mode='lines',\n",
    "                marker=dict(color='red'),\n",
    "                name='NaN',\n",
    "            )\n",
    "        )\n",
    "    \n",
    "    fig.update_layout(\n",
    "        title=column,\n",
    "        xaxis_title=\"DateTime\",\n",
    "        yaxis_title=column,\n",
    "    )\n",
    "    \n",
    "    fig.show()"
   ]
  },
  {
   "cell_type": "code",
   "execution_count": 34,
   "metadata": {},
   "outputs": [],
   "source": [
    "spectro_df.rename(\n",
    "    columns={\n",
    "        'Measurement interval=900[sec] (Export-Aggregation disabled)': 'DateTime',\n",
    "    },\n",
    "    inplace=True\n",
    ")\n",
    "\n",
    "spectro_df.sort_values(by='DateTime', inplace=True)"
   ]
  },
  {
   "cell_type": "code",
   "execution_count": null,
   "metadata": {},
   "outputs": [],
   "source": [
    "fig = go.Figure()\n",
    "\n",
    "fig.add_trace(\n",
    "    go.Scatter(\n",
    "        x=spectro_df[\"DateTime\"],\n",
    "        y=spectro_df['254 nm'],\n",
    "        mode='lines',\n",
    "        name='Spectro',\n",
    "    )\n",
    ")\n",
    "\n",
    "fig.add_trace(\n",
    "    go.Scatter(\n",
    "        x=param_df[\"DateTime\"],\n",
    "        y=param_df['UV254'],\n",
    "        mode='lines',\n",
    "        name='Multiparam',\n",
    "    )\n",
    ")\n",
    "    \n",
    "fig.update_layout(\n",
    "    title='254 nm',\n",
    "    xaxis_title=\"DateTime\",\n",
    "    yaxis_title='254 nm',\n",
    ")\n",
    "\n",
    "fig.show()"
   ]
  },
  {
   "cell_type": "code",
   "execution_count": 36,
   "metadata": {},
   "outputs": [],
   "source": [
    "# same exact values, so the spectro data is not useful"
   ]
  },
  {
   "cell_type": "code",
   "execution_count": 37,
   "metadata": {},
   "outputs": [],
   "source": [
    "# Something happened around 25-09-2024, let's check the data"
   ]
  },
  {
   "cell_type": "code",
   "execution_count": null,
   "metadata": {},
   "outputs": [],
   "source": [
    "# for each parameter, print the dates that have NaN values\n",
    "for column in param_df.columns:\n",
    "    \n",
    "    if  (column == 'DateTime') or ('Status' in column):\n",
    "        continue\n",
    "    \n",
    "    nan_df = param_df[param_df[column].isna()]\n",
    "    \n",
    "    if not nan_df.empty:\n",
    "        print('='*50)\n",
    "        print(column)\n",
    "        print('='*50)\n",
    "        print()\n",
    "        print('NaN values dates:')\n",
    "        print(nan_df['DateTime'])\n",
    "        print()"
   ]
  },
  {
   "cell_type": "code",
   "execution_count": null,
   "metadata": {},
   "outputs": [],
   "source": [
    "param_df"
   ]
  },
  {
   "cell_type": "code",
   "execution_count": null,
   "metadata": {},
   "outputs": [],
   "source": [
    "# it seems that the before the July NaN values most of the measurements come from a different distribution\n",
    "# The same happens for the September anomalies\n",
    "\n",
    "for column in param_df.columns:\n",
    "    \n",
    "    if  (column == 'DateTime') or ('Status' in column):\n",
    "        continue\n",
    "    \n",
    "    df = param_df[['DateTime', column]]\n",
    "    \n",
    "    fig = go.Figure()\n",
    "    \n",
    "    # pre July\n",
    "    pre_july_df = df[df['DateTime'] < '2024-07-03']\n",
    "    \n",
    "    # between July and September\n",
    "    between_july_sept_df = df[(df['DateTime'] >= '2024-07-03') & (df['DateTime'] < '2024-09-22')]\n",
    "    \n",
    "    # post September\n",
    "    post_sept_df = df[df['DateTime'] >= '2024-09-30']\n",
    "    \n",
    "    fig.add_trace(\n",
    "        go.Box(\n",
    "            y=pre_july_df[column],\n",
    "            name='Pre July',\n",
    "        )\n",
    "    )\n",
    "    \n",
    "    fig.add_trace(\n",
    "        go.Box(\n",
    "            y=between_july_sept_df[column],\n",
    "            name='Between July and September',\n",
    "        )\n",
    "    )\n",
    "    \n",
    "    fig.add_trace(\n",
    "        go.Box(\n",
    "            y=post_sept_df[column],\n",
    "            name='Post September',\n",
    "        )\n",
    "    )\n",
    "    \n",
    "    fig.update_layout(\n",
    "        title=column,\n",
    "        yaxis_title=column,\n",
    "    )\n",
    "    \n",
    "    fig.show()"
   ]
  },
  {
   "cell_type": "markdown",
   "metadata": {},
   "source": [
    "# Common Dates\n",
    "\n",
    "* BactoSense: misurazioni di:\n",
    "    * ICC [1/mL]: concentrazione di cellule intatte\n",
    "    * HNAC [1/mL]: concentrazione di cellule ad alto contenuto di acido nucleico\n",
    "    * LNAC [1/mL]: concentrazione di cellule a basso contenuto di acido nucleico\n",
    "    * HNAP [%]: frazione di ICC costituita da cellule ad alto contenuto di acido nucleico"
   ]
  },
  {
   "cell_type": "code",
   "execution_count": 41,
   "metadata": {},
   "outputs": [],
   "source": [
    "# get the range of dates of the cyto_df\n",
    "min_date = cyto_df['DateTime'].min()\n",
    "max_date = cyto_df['DateTime'].max()\n",
    "\n",
    "# get only the rows of the param_df that are in the range of the cyto_df\n",
    "param_df = param_df[(param_df['DateTime'] >= min_date) & (param_df['DateTime'] <= max_date)]"
   ]
  },
  {
   "cell_type": "code",
   "execution_count": null,
   "metadata": {},
   "outputs": [],
   "source": [
    "for column in param_df.columns:\n",
    "    \n",
    "    if  (column == 'DateTime') or ('Status' in column):\n",
    "        continue\n",
    "    \n",
    "    fig = go.Figure()\n",
    "    \n",
    "    fig.add_trace(\n",
    "        go.Scatter(\n",
    "            x=param_df[\"DateTime\"],\n",
    "            y=param_df[column],\n",
    "            mode='lines',\n",
    "            name=column,\n",
    "        )\n",
    "    )\n",
    "    \n",
    "    fig.update_layout(\n",
    "        title=column,\n",
    "        xaxis_title=\"DateTime\",\n",
    "        yaxis_title=column,\n",
    "    )\n",
    "    \n",
    "    fig.show()\n",
    "    \n",
    "\n",
    "for col in measurement_columns:\n",
    "    \n",
    "    fig = go.Figure()\n",
    "    \n",
    "    fig.add_trace(\n",
    "        go.Scatter(\n",
    "            x=cyto_df[\"DateTime\"],\n",
    "            y=cyto_df[col],\n",
    "            mode='lines',\n",
    "            name=col,\n",
    "        )\n",
    "    )\n",
    "    \n",
    "    fig.update_layout(\n",
    "        title=col,\n",
    "        xaxis_title=\"DateTime\",\n",
    "        yaxis_title=col,\n",
    "    )\n",
    "    \n",
    "    fig.show()"
   ]
  }
 ],
 "metadata": {
  "kernelspec": {
   "display_name": "safecrew-3OLHM_8n-py3.12",
   "language": "python",
   "name": "python3"
  },
  "language_info": {
   "codemirror_mode": {
    "name": "ipython",
    "version": 3
   },
   "file_extension": ".py",
   "mimetype": "text/x-python",
   "name": "python",
   "nbconvert_exporter": "python",
   "pygments_lexer": "ipython3",
   "version": "3.12.6"
  }
 },
 "nbformat": 4,
 "nbformat_minor": 2
}
