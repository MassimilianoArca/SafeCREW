{
 "cells": [
  {
   "cell_type": "code",
   "execution_count": null,
   "metadata": {},
   "outputs": [],
   "source": [
    "import os\n",
    "\n",
    "import json\n",
    "import pandas as pd\n",
    "import numpy as np\n",
    "import plotly.graph_objects as go\n",
    "\n",
    "from prophet import Prophet\n",
    "from prophet.plot import plot_components_plotly, plot_plotly\n",
    "\n",
    "import statsmodels.api as sm\n",
    "\n",
    "from sklearn.metrics import mean_squared_error"
   ]
  },
  {
   "cell_type": "markdown",
   "metadata": {},
   "source": [
    "# Paths"
   ]
  },
  {
   "cell_type": "code",
   "execution_count": null,
   "metadata": {},
   "outputs": [],
   "source": [
    "data_folder = os.path.join(os.path.join(\"..\", '..', \"data\"))\n",
    "raw_data_folder = os.path.join(data_folder, \"Raw Data\")\n",
    "\n",
    "reunion_folder = os.path.join(raw_data_folder, \"Riunione 24-04-2024\")\n",
    "intermediate_data_folder = os.path.join(data_folder, \"Intermediate Data\")\n",
    "\n",
    "feltre_folder = os.path.join(reunion_folder, \"feltre\")\n",
    "\n",
    "metadata_folder = os.path.join(data_folder, \"Metadata\")\n",
    "metadata_feltre_folder = os.path.join(metadata_folder, \"Feltre\")\n",
    "\n",
    "utils_folder = os.path.join(\"..\", '..', \"utils\")"
   ]
  },
  {
   "cell_type": "markdown",
   "metadata": {},
   "source": [
    "# Load Data"
   ]
  },
  {
   "cell_type": "code",
   "execution_count": null,
   "metadata": {},
   "outputs": [],
   "source": [
    "spectra_df = pd.read_excel(\n",
    "    os.path.join(feltre_folder, \"Spectra_ISOIL_21.06.2024-06.08.2024.xlsx\"),\n",
    "    header=1,\n",
    ")\n",
    "data_df = pd.read_excel(\n",
    "    os.path.join(feltre_folder, \"Data_ISOIL_21.06.2024-06.08.2024.xlsx\"),\n",
    "    header=1,\n",
    ")\n",
    "bacteria_df = pd.read_excel(\n",
    "    os.path.join(feltre_folder, \"Bactosense_dati_Luglio2024.xlsx\")\n",
    ")\n",
    "\n",
    "grab_samples_df = pd.read_excel(\n",
    "    os.path.join(intermediate_data_folder, \"All grab samples.xlsx\")\n",
    ")"
   ]
  },
  {
   "cell_type": "markdown",
   "metadata": {},
   "source": [
    "# Inspection\n",
    "\n",
    "3 dataset diversi:\n",
    "\n",
    "* Spectra: misurazioni di assorbanza a diverse lunghezze d'onda, da 200 a 420nm,\n",
    "\n",
    "* Data: misurazioni di:\n",
    "    * Cloro Libero\n",
    "    * Cloro Totale (no valori)\n",
    "    * Conduttività\n",
    "    * DOC (valori non attendibili)\n",
    "    * Nitrati\n",
    "    * Nitriti (valori non attendibili)\n",
    "    * pH\n",
    "    * Pressione\n",
    "    * Temperatura\n",
    "    * TOC\n",
    "    * Torbidità\n",
    "    * UVA254\n",
    "    \n",
    "* BactoSense: misurazioni di:\n",
    "    * ICC [1/mL]: concentrazione di cellule intatte\n",
    "    * HNAC [1/mL]: concentrazione di cellule ad alto contenuto di acido nucleico\n",
    "    * LNAC [1/mL]: concentrazione di cellule a basso contenuto di acido nucleico\n",
    "    * HNAP [%]: frazione di ICC costituita da cellule ad alto contenuto di acido nucleico\n",
    "    * TCC [1/mL] (no valori)\n",
    "    * GATE+ [1/mL] (no valori)\n",
    "    * ACC [1/mL] (no valori)\n",
    "    * HACC [1/mL] (no valori)\n",
    "    * LACC [1/mL] (no valori)\n",
    "    * HACP [%] (no valori)\n",
    "\n",
    "\n",
    "In questo [sito](https://amf.ch/application/microfluidic-flow-cytometry-quality-water-analysis/) pare che il TCC si possa ricavare dall'HNAP\n",
    "HNAP = HNAC/TCC, però pare che dalla mail di Marco sia HNAC/ICC"
   ]
  },
  {
   "cell_type": "markdown",
   "metadata": {},
   "source": [
    "## Spectra"
   ]
  },
  {
   "cell_type": "code",
   "execution_count": null,
   "metadata": {},
   "outputs": [],
   "source": [
    "spectra_df"
   ]
  },
  {
   "cell_type": "code",
   "execution_count": null,
   "metadata": {},
   "outputs": [],
   "source": [
    "spectra_df.rename(\n",
    "    columns={\n",
    "        \"Measurement interval=0[sec] (Export-Aggregation disabled)\": \"DateTime\",\n",
    "    },\n",
    "    inplace=True,\n",
    ")\n",
    "\n",
    "# drop rows where in the Status column is not present the word \"OK\"\n",
    "spectra_df = spectra_df[spectra_df[\"Status (Source:0)\"].str.contains(\"Ok\")]\n",
    "spectra_df.drop(columns=[\"Status (Source:0)\"], inplace=True)\n",
    "\n",
    "spectra_df.set_index(\"DateTime\", inplace=True)"
   ]
  },
  {
   "cell_type": "markdown",
   "metadata": {},
   "source": [
    "## Other Params"
   ]
  },
  {
   "cell_type": "code",
   "execution_count": null,
   "metadata": {},
   "outputs": [],
   "source": [
    "data_df"
   ]
  },
  {
   "cell_type": "code",
   "execution_count": null,
   "metadata": {},
   "outputs": [],
   "source": [
    "# drop columns that contain the word \"Status\"\n",
    "data_df = data_df.loc[:, ~data_df.columns.str.contains(\"Status\")]\n",
    "\n",
    "data_df.rename(\n",
    "    columns={\n",
    "        \"Measurement interval=0[sec] (Export-Aggregation disabled)\": \"DateTime\",\n",
    "    },\n",
    "    inplace=True,\n",
    ")\n",
    "\n",
    "data_df = data_df.loc[:, ~data_df.columns.str.contains(\"Status\")]\n",
    "\n",
    "data_df.set_index(\"DateTime\", inplace=True)"
   ]
  },
  {
   "cell_type": "markdown",
   "metadata": {},
   "source": [
    "## Bacteria\n",
    "\n",
    "Dato isolato al 16/07, poi dal 22/07 ogni due ore.\n",
    "\n",
    "• ICC [1/mL]: concentrazione di cellule intatte;\n",
    "\n",
    "• HNAC [1/mL]: concentrazione di cellule ad alto contenuto di acido nucleico;\n",
    "\n",
    "• LNAC [1/mL]: concentrazione di cellule a basso contenuto di acido nucleico;\n",
    "\n",
    "• HNAP [%]: frazione di ICC costituita da cellule ad alto contenuto di acido nucleico.\n",
    "\n",
    "Tendenzialmente, HNAC+LNAC dovrebbe risultare in ICC."
   ]
  },
  {
   "cell_type": "code",
   "execution_count": null,
   "metadata": {},
   "outputs": [],
   "source": [
    "bacteria_df"
   ]
  },
  {
   "cell_type": "code",
   "execution_count": null,
   "metadata": {},
   "outputs": [],
   "source": [
    "bacteria_df.columns.to_list()"
   ]
  },
  {
   "cell_type": "code",
   "execution_count": null,
   "metadata": {},
   "outputs": [],
   "source": [
    "# drop columns that contain the word \"Status\"\n",
    "bacteria_df.drop(\n",
    "    columns=[\n",
    "        \"Timestamp\",\n",
    "        \"Date [local]\",\n",
    "        \"Date [GMT]\",\n",
    "        \"Instrument Name\",\n",
    "        \"Instrument SN\",\n",
    "        \"Mode\",\n",
    "        \"Name\",\n",
    "        \"Protocol\",\n",
    "        \"Warnings\",\n",
    "        \"Alarms\",\n",
    "        \"Cartridge Fill\",\n",
    "    ],\n",
    "    inplace=True,\n",
    ")\n",
    "\n",
    "bacteria_df.rename(\n",
    "    columns={\n",
    "        \"Sampling Date [local]\": \"DateTime\",\n",
    "    },\n",
    "    inplace=True,\n",
    ")\n",
    "\n",
    "bacteria_df.set_index(\"DateTime\", inplace=True)\n",
    "\n",
    "# remove first row\n",
    "bacteria_df = bacteria_df.iloc[1:]"
   ]
  },
  {
   "cell_type": "markdown",
   "metadata": {},
   "source": [
    "# Confront UV254"
   ]
  },
  {
   "cell_type": "code",
   "execution_count": null,
   "metadata": {},
   "outputs": [],
   "source": [
    "fig = go.Figure()\n",
    "\n",
    "fig.add_trace(\n",
    "    go.Scatter(\n",
    "        x=data_df.index,\n",
    "        y=data_df[\"UV254 - Result (Limit:-Infinity-+Infinity)\"],\n",
    "        mode=\"lines\",\n",
    "        name=\"UV254 - Data\",\n",
    "        line=dict(color=\"red\"),\n",
    "    )\n",
    ")\n",
    "\n",
    "fig.add_trace(\n",
    "    go.Scatter(\n",
    "        x=spectra_df.index,\n",
    "        y=spectra_df[\"254 nm\"],\n",
    "        mode=\"lines\",\n",
    "        name=\"UV254 - Spectra\",\n",
    "        line=dict(color=\"blue\"),\n",
    "    )\n",
    ")\n",
    "\n",
    "fig.update_layout(\n",
    "    showlegend=True,\n",
    ")\n",
    "\n",
    "fig.show()"
   ]
  },
  {
   "cell_type": "code",
   "execution_count": null,
   "metadata": {},
   "outputs": [],
   "source": [
    "rmse = np.sqrt(\n",
    "    mean_squared_error(\n",
    "        data_df[\"UV254 - Result (Limit:-Infinity-+Infinity)\"],\n",
    "        spectra_df[\"254 nm\"],\n",
    "    )\n",
    ")\n",
    "rmse"
   ]
  },
  {
   "cell_type": "markdown",
   "metadata": {},
   "source": [
    "# Plots"
   ]
  },
  {
   "cell_type": "markdown",
   "metadata": {},
   "source": [
    "## Time-series"
   ]
  },
  {
   "cell_type": "markdown",
   "metadata": {},
   "source": [
    "### Spectra"
   ]
  },
  {
   "cell_type": "code",
   "execution_count": null,
   "metadata": {},
   "outputs": [],
   "source": [
    "columns = [\"254 nm\"]\n",
    "\n",
    "for col in columns:\n",
    "    fig = go.Figure()\n",
    "\n",
    "    fig.add_trace(\n",
    "        go.Scatter(\n",
    "            x=spectra_df.index,\n",
    "            y=spectra_df[col],\n",
    "            mode=\"lines\",\n",
    "            name=col,\n",
    "        )\n",
    "    )\n",
    "\n",
    "    fig.update_layout(showlegend=True)\n",
    "\n",
    "    fig.show()"
   ]
  },
  {
   "cell_type": "markdown",
   "metadata": {},
   "source": [
    "### Other Params"
   ]
  },
  {
   "cell_type": "code",
   "execution_count": null,
   "metadata": {},
   "outputs": [],
   "source": [
    "# get the first part of the name of each column in the data_df before the '-'\n",
    "columns = data_df.columns\n",
    "columns = [column.split(\"-\")[0] for column in columns]\n",
    "\n",
    "# get unique values\n",
    "columns = sorted(list(set(columns)))"
   ]
  },
  {
   "cell_type": "code",
   "execution_count": null,
   "metadata": {},
   "outputs": [],
   "source": [
    "import plotly.graph_objects as go\n",
    "\n",
    "for col in columns:\n",
    "    df = data_df.filter(regex=col, axis=1)\n",
    "\n",
    "    fig = go.Figure()\n",
    "\n",
    "    for column in df.columns:\n",
    "        full_name = column.split(\"]\")\n",
    "        name = full_name[0] + \"]\"\n",
    "        if len(full_name) > 1:\n",
    "            limit = full_name[1]\n",
    "        else:\n",
    "            limit = \"\"\n",
    "\n",
    "        # Ensure each trace has a unique name\n",
    "        trace_name = name + limit\n",
    "\n",
    "        fig.add_trace(\n",
    "            go.Scatter(\n",
    "                x=df.index,\n",
    "                y=df[column],\n",
    "                mode=\"lines\",\n",
    "                name=trace_name,\n",
    "            )\n",
    "        )\n",
    "\n",
    "    fig.update_layout(\n",
    "        showlegend=True,\n",
    "        legend=dict(\n",
    "            orientation=\"h\", yanchor=\"top\", y=-0.12, font=dict(size=10)\n",
    "        ),\n",
    "    )\n",
    "\n",
    "    fig.show()"
   ]
  },
  {
   "cell_type": "markdown",
   "metadata": {},
   "source": [
    "### Bacteria"
   ]
  },
  {
   "cell_type": "code",
   "execution_count": null,
   "metadata": {},
   "outputs": [],
   "source": [
    "for col in bacteria_df.columns:\n",
    "    fig = go.Figure()\n",
    "\n",
    "    fig.add_trace(\n",
    "        go.Scatter(\n",
    "            x=bacteria_df.index,\n",
    "            y=bacteria_df[col],\n",
    "            mode=\"lines\",\n",
    "            name=col,\n",
    "        )\n",
    "    )\n",
    "\n",
    "    fig.update_layout(showlegend=True)\n",
    "\n",
    "    fig.show()"
   ]
  },
  {
   "cell_type": "markdown",
   "metadata": {},
   "source": [
    "#### HNAC+LNAC dovrebbe risultare uguale a ICC"
   ]
  },
  {
   "cell_type": "code",
   "execution_count": null,
   "metadata": {},
   "outputs": [],
   "source": [
    "bacteria_df.columns"
   ]
  },
  {
   "cell_type": "code",
   "execution_count": null,
   "metadata": {},
   "outputs": [],
   "source": [
    "fig = go.Figure()\n",
    "\n",
    "fig.add_trace(\n",
    "    go.Scatter(\n",
    "        x=bacteria_df.index,\n",
    "        y=bacteria_df[\"ICC [1/mL]\"],\n",
    "        mode=\"lines\",\n",
    "        name=\"ICC [1/mL]\",\n",
    "    )\n",
    ")\n",
    "\n",
    "fig.add_trace(\n",
    "    go.Scatter(\n",
    "        x=bacteria_df.index,\n",
    "        y=bacteria_df[\"HNAC [1/mL]\"] + bacteria_df[\"LNAC [1/mL]\"],\n",
    "        mode=\"lines\",\n",
    "        name=\"HNAC [1/mL] + LNAC [1/mL]\",\n",
    "    )\n",
    ")\n",
    "\n",
    "fig.show()"
   ]
  },
  {
   "cell_type": "markdown",
   "metadata": {},
   "source": [
    "#### HNAP dovrebbe essere uguale a HNAC/ICC"
   ]
  },
  {
   "cell_type": "code",
   "execution_count": null,
   "metadata": {},
   "outputs": [],
   "source": [
    "fig = go.Figure()\n",
    "\n",
    "fig.add_trace(\n",
    "    go.Scatter(\n",
    "        x=bacteria_df.index,\n",
    "        y=bacteria_df[\"HNAP [%]\"],\n",
    "        mode=\"lines\",\n",
    "        name=\"ICC [1/mL]\",\n",
    "    )\n",
    ")\n",
    "\n",
    "fig.add_trace(\n",
    "    go.Scatter(\n",
    "        x=bacteria_df.index,\n",
    "        y=bacteria_df[\"HNAC [1/mL]\"] / bacteria_df[\"ICC [1/mL]\"],\n",
    "        mode=\"lines\",\n",
    "        name=\"HNAC [1/mL] / ICC [1/mL]\",\n",
    "    )\n",
    ")\n",
    "\n",
    "fig.show()"
   ]
  },
  {
   "cell_type": "markdown",
   "metadata": {},
   "source": [
    "### Before and After 4th July"
   ]
  },
  {
   "cell_type": "markdown",
   "metadata": {},
   "source": [
    "#### Before"
   ]
  },
  {
   "cell_type": "markdown",
   "metadata": {},
   "source": [
    "##### Spectra"
   ]
  },
  {
   "cell_type": "code",
   "execution_count": null,
   "metadata": {},
   "outputs": [],
   "source": [
    "columns = [\"254 nm\"]\n",
    "\n",
    "for col in columns:\n",
    "    before_df = spectra_df[spectra_df.index < \"2024-07-04 00:00:00\"]\n",
    "\n",
    "    fig = go.Figure()\n",
    "\n",
    "    fig.add_trace(\n",
    "        go.Scatter(\n",
    "            x=before_df.index,\n",
    "            y=before_df[col],\n",
    "            mode=\"lines\",\n",
    "            name=col,\n",
    "        )\n",
    "    )\n",
    "\n",
    "    fig.update_layout(showlegend=True)\n",
    "\n",
    "    fig.show()"
   ]
  },
  {
   "cell_type": "markdown",
   "metadata": {},
   "source": [
    "##### Other Params"
   ]
  },
  {
   "cell_type": "code",
   "execution_count": null,
   "metadata": {},
   "outputs": [],
   "source": [
    "# get the first part of the name of each column in the data_df before the '-'\n",
    "columns = data_df.columns\n",
    "columns = [column.split(\"-\")[0] for column in columns]\n",
    "\n",
    "# get unique values\n",
    "columns = sorted(list(set(columns)))"
   ]
  },
  {
   "cell_type": "code",
   "execution_count": null,
   "metadata": {},
   "outputs": [],
   "source": [
    "for col in columns:\n",
    "    # regex that matches the column name and contains the word \"Measured\" or \"Result\"\n",
    "    regex = col + \".*(?=Measured|Result)\"\n",
    "\n",
    "    df = data_df.filter(regex=regex, axis=1)\n",
    "\n",
    "    fig = go.Figure()\n",
    "\n",
    "    column = df.columns.to_list()[0]\n",
    "\n",
    "    full_name = column.split(\"-\")\n",
    "\n",
    "    name = full_name[0]\n",
    "\n",
    "    # take the unit of measurement between the square brackets\n",
    "    unit = (\n",
    "        full_name[1].split(\"[\")[1].split(\"]\")[0] if \"[\" in full_name[1] else \"\"\n",
    "    )\n",
    "    unit = \"[\" + unit + \"]\" if unit else \"\"\n",
    "\n",
    "    before_df = df[df.index < \"2024-07-04 00:00:00\"]\n",
    "\n",
    "    # add box plot before and after the change\n",
    "    fig.add_trace(\n",
    "        go.Scatter(\n",
    "            x=before_df.index,\n",
    "            y=before_df[column],\n",
    "            mode=\"lines\",\n",
    "            name=name + unit,\n",
    "        )\n",
    "    )\n",
    "\n",
    "    fig.update_layout(\n",
    "        showlegend=True,\n",
    "        title=dict(\n",
    "            text=f\"{name + unit} before 4th July 2024\",\n",
    "            font=dict(size=20),\n",
    "        ),\n",
    "        legend=dict(\n",
    "            orientation=\"h\",\n",
    "            yanchor=\"bottom\",\n",
    "            y=1.01,\n",
    "            xanchor=\"right\",\n",
    "            x=1,\n",
    "            font=dict(size=20),  # Adjust font size for legend\n",
    "        ),\n",
    "        yaxis_title=name + unit,\n",
    "        # change x-axis font\n",
    "        xaxis=dict(tickfont=dict(size=20)),\n",
    "    )\n",
    "\n",
    "    fig.show()"
   ]
  },
  {
   "cell_type": "markdown",
   "metadata": {},
   "source": [
    "#### After"
   ]
  },
  {
   "cell_type": "markdown",
   "metadata": {},
   "source": [
    "##### Spectra"
   ]
  },
  {
   "cell_type": "code",
   "execution_count": null,
   "metadata": {},
   "outputs": [],
   "source": [
    "columns = [\"254 nm\"]\n",
    "\n",
    "for col in columns:\n",
    "    after_df = spectra_df[spectra_df.index > \"2024-07-04 23:59:59\"]\n",
    "\n",
    "    fig = go.Figure()\n",
    "\n",
    "    fig.add_trace(\n",
    "        go.Scatter(\n",
    "            x=after_df.index,\n",
    "            y=after_df[col],\n",
    "            mode=\"lines\",\n",
    "            name=col,\n",
    "        )\n",
    "    )\n",
    "\n",
    "    fig.update_layout(showlegend=True)\n",
    "\n",
    "    fig.show()"
   ]
  },
  {
   "cell_type": "markdown",
   "metadata": {},
   "source": [
    "##### Other Params"
   ]
  },
  {
   "cell_type": "code",
   "execution_count": null,
   "metadata": {},
   "outputs": [],
   "source": [
    "# get the first part of the name of each column in the data_df before the '-'\n",
    "columns = data_df.columns\n",
    "columns = [column.split(\"-\")[0] for column in columns]\n",
    "\n",
    "# get unique values\n",
    "columns = sorted(list(set(columns)))"
   ]
  },
  {
   "cell_type": "code",
   "execution_count": null,
   "metadata": {},
   "outputs": [],
   "source": [
    "for col in columns:\n",
    "    # regex that matches the column name and contains the word \"Measured\" or \"Result\"\n",
    "    regex = col + \".*(?=Measured|Result)\"\n",
    "\n",
    "    df = data_df.filter(regex=regex, axis=1)\n",
    "\n",
    "    fig = go.Figure()\n",
    "\n",
    "    column = df.columns.to_list()[0]\n",
    "\n",
    "    full_name = column.split(\"-\")\n",
    "\n",
    "    name = full_name[0]\n",
    "\n",
    "    # take the unit of measurement between the square brackets\n",
    "    unit = (\n",
    "        full_name[1].split(\"[\")[1].split(\"]\")[0] if \"[\" in full_name[1] else \"\"\n",
    "    )\n",
    "    unit = \"[\" + unit + \"]\" if unit else \"\"\n",
    "\n",
    "    after_df = df[df.index > \"2024-07-04 23:59:59\"]\n",
    "\n",
    "    # add box plot before and after the change\n",
    "    fig.add_trace(\n",
    "        go.Scatter(\n",
    "            x=after_df.index,\n",
    "            y=after_df[column],\n",
    "            mode=\"lines\",\n",
    "            name=name + unit,\n",
    "        )\n",
    "    )\n",
    "\n",
    "    fig.update_layout(\n",
    "        showlegend=True,\n",
    "        title=dict(\n",
    "            text=f\"{name + unit} after 4th July 2024\",\n",
    "            font=dict(size=20),\n",
    "        ),\n",
    "        legend=dict(\n",
    "            orientation=\"h\",\n",
    "            yanchor=\"bottom\",\n",
    "            y=1.01,\n",
    "            xanchor=\"right\",\n",
    "            x=1,\n",
    "            font=dict(size=20),  # Adjust font size for legend\n",
    "        ),\n",
    "        yaxis_title=name + unit,\n",
    "        # change x-axis font\n",
    "        xaxis=dict(tickfont=dict(size=20)),\n",
    "    )\n",
    "\n",
    "    fig.show()"
   ]
  },
  {
   "cell_type": "markdown",
   "metadata": {},
   "source": [
    "## Boxplots\n",
    "\n",
    "It seems like something happened in 4th July, so we do two different boxplots before and after that date."
   ]
  },
  {
   "cell_type": "markdown",
   "metadata": {},
   "source": [
    "### Spectra"
   ]
  },
  {
   "cell_type": "code",
   "execution_count": null,
   "metadata": {},
   "outputs": [],
   "source": [
    "columns = [\"254 nm\"]\n",
    "\n",
    "for col in columns:\n",
    "    fig = go.Figure()\n",
    "\n",
    "    df = spectra_df[col]\n",
    "\n",
    "    before_df = df[df.index < \"2024-07-04 00:00:00\"]\n",
    "    after_df = df[df.index > \"2024-07-04 23:59:59\"]\n",
    "\n",
    "    # add box plot before and after the change\n",
    "    fig.add_trace(go.Box(y=before_df, name=\"Before\", marker_color=\"blue\"))\n",
    "\n",
    "    fig.add_trace(go.Box(y=after_df, name=\"After\", marker_color=\"red\"))\n",
    "\n",
    "    fig.update_layout(\n",
    "        title=f\"Box plot of {col} before and after 4th July 2024\",\n",
    "        yaxis_title=col,\n",
    "    )\n",
    "\n",
    "    fig.show()"
   ]
  },
  {
   "cell_type": "markdown",
   "metadata": {},
   "source": [
    "### Other Params"
   ]
  },
  {
   "cell_type": "code",
   "execution_count": null,
   "metadata": {},
   "outputs": [],
   "source": [
    "# get the first part of the name of each column in the data_df before the '-'\n",
    "columns = data_df.columns\n",
    "columns = [column.split(\"-\")[0] for column in columns]\n",
    "\n",
    "# get unique values\n",
    "columns = sorted(list(set(columns)))"
   ]
  },
  {
   "cell_type": "code",
   "execution_count": null,
   "metadata": {},
   "outputs": [],
   "source": [
    "data_df.filter(regex=\"Temperature\", axis=1).columns.to_list()"
   ]
  },
  {
   "cell_type": "code",
   "execution_count": null,
   "metadata": {},
   "outputs": [],
   "source": [
    "# drop redundant temperature columns\n",
    "data_df.drop(\n",
    "    columns=[\n",
    "        \"Temperature - Measured value [C] (Limit:-5.00-100.00_Coefs:-0.40 1.00 0.00 0.00)\",\n",
    "        \"Temperature - Clean value [C] (Limit:-5.00-100.00)\",\n",
    "        \"Temperature - Measured value [°C] (Limit:0.00-45.00_Coefs:0.00 0.00 0.00 0.00)\",\n",
    "        \"Temperature - Clean value [°C] (Limit:0.00-45.00)\",\n",
    "    ],\n",
    "    inplace=True,\n",
    ")"
   ]
  },
  {
   "cell_type": "code",
   "execution_count": null,
   "metadata": {},
   "outputs": [],
   "source": [
    "for col in columns:\n",
    "    # regex that matches the column name and contains the word \"Measured\" or \"Result\"\n",
    "    regex = col + \".*(?=Measured|Result)\"\n",
    "\n",
    "    df = data_df.filter(regex=regex, axis=1)\n",
    "\n",
    "    fig = go.Figure()\n",
    "\n",
    "    column = df.columns.to_list()[0]\n",
    "\n",
    "    full_name = column.split(\"-\")\n",
    "\n",
    "    name = full_name[0]\n",
    "\n",
    "    # take the unit of measurement between the square brackets\n",
    "    unit = (\n",
    "        full_name[1].split(\"[\")[1].split(\"]\")[0] if \"[\" in full_name[1] else \"\"\n",
    "    )\n",
    "    unit = \"[\" + unit + \"]\" if unit else \"\"\n",
    "\n",
    "    before_df = df[df.index < \"2024-07-04 00:00:00\"]\n",
    "    after_df = df[df.index > \"2024-07-04 23:59:59\"]\n",
    "\n",
    "    # add box plot before and after the change\n",
    "    fig.add_trace(\n",
    "        go.Box(\n",
    "            y=before_df[column],\n",
    "            name=\"Before\",\n",
    "        )\n",
    "    )\n",
    "\n",
    "    fig.add_trace(\n",
    "        go.Box(\n",
    "            y=after_df[column],\n",
    "            name=\"After\",\n",
    "        )\n",
    "    )\n",
    "\n",
    "    fig.update_layout(\n",
    "        showlegend=True,\n",
    "        title=dict(\n",
    "            text=f\"{name + unit} before and after 4th July 2024\",\n",
    "            font=dict(size=20),\n",
    "        ),\n",
    "        legend=dict(\n",
    "            orientation=\"h\",\n",
    "            yanchor=\"bottom\",\n",
    "            y=1.01,\n",
    "            xanchor=\"right\",\n",
    "            x=1,\n",
    "            font=dict(size=20),  # Adjust font size for legend\n",
    "        ),\n",
    "        yaxis_title=name + unit,\n",
    "        # change x-axis font\n",
    "        xaxis=dict(tickfont=dict(size=20)),\n",
    "    )\n",
    "\n",
    "    fig.show()"
   ]
  },
  {
   "cell_type": "markdown",
   "metadata": {},
   "source": [
    "# Trend Analysis"
   ]
  },
  {
   "cell_type": "markdown",
   "metadata": {},
   "source": [
    "## Other Params"
   ]
  },
  {
   "cell_type": "code",
   "execution_count": null,
   "metadata": {},
   "outputs": [],
   "source": [
    "data_df.columns"
   ]
  },
  {
   "cell_type": "code",
   "execution_count": null,
   "metadata": {},
   "outputs": [],
   "source": [
    "# remove Total Chlorine column\n",
    "data_df.drop(\n",
    "    columns=[\n",
    "        \"Total Chlorine - Measured value [mg/l] (Limit:0.00-2.00_Coefs:0.00 1.00 0.00 0.00)\"\n",
    "    ],\n",
    "    inplace=True,\n",
    ")"
   ]
  },
  {
   "cell_type": "code",
   "execution_count": null,
   "metadata": {},
   "outputs": [],
   "source": [
    "# get the first part of the name of each column in the data_df before the '-'\n",
    "columns = data_df.columns\n",
    "columns = [column.split(\"-\")[0] for column in columns]\n",
    "\n",
    "# get unique values\n",
    "columns = sorted(list(set(columns)))"
   ]
  },
  {
   "cell_type": "code",
   "execution_count": null,
   "metadata": {},
   "outputs": [],
   "source": [
    "for col in columns:\n",
    "    # regex that matches the column name and contains the word \"Measured\" or \"Result\"\n",
    "    regex = col + \".*(?=Measured|Result)\"\n",
    "\n",
    "    df = data_df.filter(regex=regex, axis=1)\n",
    "\n",
    "    df = df.resample(\"2h\").mean()\n",
    "\n",
    "    fig = go.Figure()\n",
    "\n",
    "    column = df.columns.to_list()[0]\n",
    "\n",
    "    full_name = column.split(\"-\")\n",
    "\n",
    "    name = full_name[0]\n",
    "\n",
    "    # take the unit of measurement between the square brackets\n",
    "    unit = (\n",
    "        full_name[1].split(\"[\")[1].split(\"]\")[0] if \"[\" in full_name[1] else \"\"\n",
    "    )\n",
    "    unit = \"[\" + unit + \"]\" if unit else \"\"\n",
    "\n",
    "    after_df = df[df.index > \"2024-07-04 23:59:59\"]\n",
    "\n",
    "    model = Prophet(weekly_seasonality=False, changepoint_prior_scale=0.1)\n",
    "\n",
    "    after_df = after_df.reset_index()\n",
    "    after_df.rename(columns={\"DateTime\": \"ds\", column: \"y\"}, inplace=True)\n",
    "    model.fit(after_df)\n",
    "\n",
    "    future = model.make_future_dataframe(periods=0)\n",
    "    forecast = model.predict(future)\n",
    "\n",
    "    fig = plot_components_plotly(model, forecast)\n",
    "\n",
    "    fig.add_trace(\n",
    "        go.Scatter(\n",
    "            x=after_df[\"ds\"],\n",
    "            y=after_df[\"y\"],\n",
    "            mode=\"lines\",\n",
    "            name=\"Data\",\n",
    "        )\n",
    "    )\n",
    "\n",
    "    fig.update_layout(\n",
    "        legend=dict(traceorder=\"normal\"),\n",
    "        title=dict(\n",
    "            text=f\"{name + unit} after 4th July 2024\",\n",
    "            font=dict(size=20),\n",
    "        ),\n",
    "    )\n",
    "\n",
    "    fig.show()"
   ]
  },
  {
   "cell_type": "code",
   "execution_count": null,
   "metadata": {},
   "outputs": [],
   "source": [
    "for col in columns:\n",
    "    # regex that matches the column name and contains the word \"Measured\" or \"Result\"\n",
    "    regex = col + \".*(?=Measured|Result)\"\n",
    "\n",
    "    df = data_df.filter(regex=regex, axis=1)\n",
    "\n",
    "    df = df.resample(\"2h\").mean()\n",
    "\n",
    "    fig = go.Figure()\n",
    "\n",
    "    column = df.columns.to_list()[0]\n",
    "\n",
    "    full_name = column.split(\"-\")\n",
    "\n",
    "    name = full_name[0]\n",
    "\n",
    "    # take the unit of measurement between the square brackets\n",
    "    unit = (\n",
    "        full_name[1].split(\"[\")[1].split(\"]\")[0] if \"[\" in full_name[1] else \"\"\n",
    "    )\n",
    "    unit = \"[\" + unit + \"]\" if unit else \"\"\n",
    "\n",
    "    after_df = df[df.index > \"2024-07-04 23:59:59\"]\n",
    "\n",
    "    model = Prophet()\n",
    "\n",
    "    after_df = after_df.reset_index()\n",
    "    after_df.rename(columns={\"DateTime\": \"ds\", column: \"y\"}, inplace=True)\n",
    "    model.fit(after_df)\n",
    "\n",
    "    future = model.make_future_dataframe(periods=0)\n",
    "    forecast = model.predict(future)\n",
    "\n",
    "    # # plot trend with changepoints\n",
    "    # fig.add_trace(\n",
    "    #     go.Scatter(\n",
    "    #         x=forecast['ds'],\n",
    "    #         y=forecast['trend'],\n",
    "    #         mode=\"lines\",\n",
    "    #         name=\"Trend\",\n",
    "    #     )\n",
    "    # )\n",
    "\n",
    "    # fig.add_trace(\n",
    "    #     go.Scatter(\n",
    "    #         x=after_df['ds'],\n",
    "    #         y=after_df['y'],\n",
    "    #         mode=\"lines\",\n",
    "    #         name=\"Data\",\n",
    "    #     )\n",
    "    # )\n",
    "\n",
    "    fig = plot_plotly(\n",
    "        model,\n",
    "        forecast,\n",
    "        trend=True,\n",
    "        changepoints=True,\n",
    "        xlabel=\"Date\",\n",
    "        ylabel=name + unit,\n",
    "        changepoints_threshold=0.8,\n",
    "    )\n",
    "\n",
    "    # remove trace legends that are None\n",
    "    fig.for_each_trace(\n",
    "        lambda trace: trace.update(showlegend=False)\n",
    "        if trace.name is None\n",
    "        else ()\n",
    "    )\n",
    "\n",
    "    fig.update_layout(\n",
    "        showlegend=True,\n",
    "        legend=dict(traceorder=\"normal\"),\n",
    "        title=dict(\n",
    "            text=f\"{name + unit} after 4th July 2024\",\n",
    "            font=dict(size=20),\n",
    "        ),\n",
    "    )\n",
    "\n",
    "    fig.show()"
   ]
  },
  {
   "cell_type": "markdown",
   "metadata": {},
   "source": [
    "## Bacteria"
   ]
  },
  {
   "cell_type": "code",
   "execution_count": null,
   "metadata": {},
   "outputs": [],
   "source": [
    "bacteria_df.columns"
   ]
  },
  {
   "cell_type": "code",
   "execution_count": null,
   "metadata": {},
   "outputs": [],
   "source": [
    "# remove 0 columns\n",
    "bacteria_df.drop(\n",
    "    columns=[\n",
    "        \"TCC [1/mL]\",\n",
    "        \"GATE+ [1/mL]\",\n",
    "        \"ACC [1/mL]\",\n",
    "        \"HACC [1/mL]\",\n",
    "        \"LACC [1/mL]\",\n",
    "        \"HACP [%]\",\n",
    "    ],\n",
    "    inplace=True,\n",
    ")"
   ]
  },
  {
   "cell_type": "code",
   "execution_count": null,
   "metadata": {},
   "outputs": [],
   "source": [
    "for column in bacteria_df.columns:\n",
    "    df = bacteria_df[column]\n",
    "\n",
    "    model = Prophet()\n",
    "\n",
    "    df = df.reset_index()\n",
    "    df.rename(columns={\"DateTime\": \"ds\", column: \"y\"}, inplace=True)\n",
    "    model.fit(df)\n",
    "\n",
    "    forecast = model.predict()\n",
    "\n",
    "    # Create subplots\n",
    "    fig = plot_plotly(\n",
    "        model,\n",
    "        forecast,\n",
    "        trend=True,\n",
    "        changepoints=True,\n",
    "        xlabel=\"Date\",\n",
    "        ylabel=column,\n",
    "        changepoints_threshold=0.5,\n",
    "    )\n",
    "\n",
    "    # get the change points chosen to be shown\n",
    "    signif_changepoints = model.changepoints[\n",
    "        np.abs(np.nanmean(model.params[\"delta\"], axis=0)) >= 0.5\n",
    "    ]\n",
    "\n",
    "    # compute the sensor frequency\n",
    "    sensor_freq = df[\"ds\"].diff().dropna().mean()\n",
    "\n",
    "    annotation_text = \"\"\n",
    "\n",
    "    if len(signif_changepoints) > 0:\n",
    "        before_change = forecast[forecast[\"ds\"] < signif_changepoints.values[0]]\n",
    "        after_change = forecast[forecast[\"ds\"] > signif_changepoints.values[0]]\n",
    "\n",
    "        # compute slope before and after the change\n",
    "        X = sm.add_constant(before_change.index.values)\n",
    "        y = before_change[\"trend\"].values\n",
    "        model = sm.OLS(y, X)\n",
    "        results = model.fit()\n",
    "        slope_before = results.params[1]\n",
    "\n",
    "        X = sm.add_constant(after_change.index.values)\n",
    "        y = after_change[\"trend\"].values\n",
    "        model = sm.OLS(y, X)\n",
    "        results = model.fit()\n",
    "        slope_after = results.params[1]\n",
    "\n",
    "        # add annotations with the slope before and after the change\n",
    "        annotation_text = (\n",
    "            f\"Slope before change: {slope_before:.2f}<br>\"\n",
    "            f\"Slope after change: {slope_after:.2f}\"\n",
    "        )\n",
    "    else:\n",
    "        X = sm.add_constant(forecast.index.values)\n",
    "        y = forecast[\"trend\"].values\n",
    "        model = sm.OLS(y, X)\n",
    "        results = model.fit()\n",
    "        slope = results.params[1]\n",
    "\n",
    "        # add annotations with the slope\n",
    "        annotation_text = f\"Slope: {slope:.3f}\"\n",
    "\n",
    "    # add a single annotation with all the information\n",
    "    fig.add_annotation(\n",
    "        x=0.05,\n",
    "        y=0.95,\n",
    "        xref=\"paper\",\n",
    "        yref=\"paper\",\n",
    "        text=annotation_text\n",
    "        + f\"<br>Mean Sensor frequency: {sensor_freq.components.hours}h {sensor_freq.components.minutes}min\",\n",
    "        showarrow=False,\n",
    "        font=dict(size=20),\n",
    "        align=\"left\",\n",
    "        bordercolor=\"black\",\n",
    "        borderwidth=2,\n",
    "        borderpad=4,\n",
    "        bgcolor=\"lightgrey\",\n",
    "    )\n",
    "\n",
    "    # remove trace legends that are None\n",
    "    fig.for_each_trace(\n",
    "        lambda trace: trace.update(showlegend=False)\n",
    "        if trace.name is None\n",
    "        else ()\n",
    "    )\n",
    "\n",
    "    # sort the legends alphabetically\n",
    "    fig.update_layout(\n",
    "        showlegend=True,\n",
    "        legend=dict(traceorder=\"normal\"),\n",
    "        title=dict(\n",
    "            text=f\"{column}\",\n",
    "            font=dict(size=20),\n",
    "        ),\n",
    "    )\n",
    "\n",
    "    fig.show()"
   ]
  },
  {
   "cell_type": "markdown",
   "metadata": {},
   "source": [
    "# Comparison between Historical Grab and New Sensors"
   ]
  },
  {
   "cell_type": "code",
   "execution_count": null,
   "metadata": {},
   "outputs": [],
   "source": [
    "data_df.columns"
   ]
  },
  {
   "cell_type": "code",
   "execution_count": null,
   "metadata": {},
   "outputs": [],
   "source": [
    "# just the data after the 4th of July 2024\n",
    "data_df = data_df[data_df.index > \"2024-07-04 23:59:59\"]"
   ]
  },
  {
   "cell_type": "code",
   "execution_count": null,
   "metadata": {},
   "outputs": [],
   "source": [
    "grab_samples_df = grab_samples_df[grab_samples_df['Punto di prelievo'] == 'Feltre']"
   ]
  },
  {
   "cell_type": "markdown",
   "metadata": {},
   "source": [
    "## Summary Historical Feltre"
   ]
  },
  {
   "cell_type": "code",
   "execution_count": null,
   "metadata": {},
   "outputs": [],
   "source": [
    "grab_samples_df"
   ]
  },
  {
   "cell_type": "code",
   "execution_count": null,
   "metadata": {},
   "outputs": [],
   "source": [
    "from operator import contains\n",
    "\n",
    "info_columns = [x for x in grab_samples_df.columns[4:] if (not contains(x, '_label'))]"
   ]
  },
  {
   "cell_type": "code",
   "execution_count": null,
   "metadata": {},
   "outputs": [],
   "source": [
    "info_columns"
   ]
  },
  {
   "cell_type": "code",
   "execution_count": null,
   "metadata": {},
   "outputs": [],
   "source": [
    "info_df = pd.DataFrame(\n",
    "    index=pd.Index(\n",
    "        [\n",
    "            \"N° Entries\",\n",
    "            \"N° Valid Samples\",\n",
    "            \"N° Missing\",\n",
    "            \"N° < LOQ\",\n",
    "            \"Mean\",\n",
    "            \"Std\",\n",
    "            \"Start Date\",\n",
    "            \"End Date\",\n",
    "        ],\n",
    "        name=\"Info\",\n",
    "    ),\n",
    "    columns=info_columns,\n",
    ")\n"
   ]
  },
  {
   "cell_type": "code",
   "execution_count": null,
   "metadata": {},
   "outputs": [],
   "source": [
    "# store the information in the station_info_df\n",
    "for column in info_columns:\n",
    "    \n",
    "    df = grab_samples_df[['Data di prelievo', column, column + \"_label\" ]].copy()\n",
    "    \n",
    "    if df.dropna().shape[0] == 0:\n",
    "        continue\n",
    "    \n",
    "    df['Data di prelievo'] = pd.to_datetime(df['Data di prelievo'])\n",
    "\n",
    "  \n",
    "    start_date = df.dropna()['Data di prelievo'].min().strftime(\"%Y-%m-%d\")\n",
    "    end_date = df.dropna()['Data di prelievo'].max().strftime(\"%Y-%m-%d\")\n",
    "    \n",
    "\n",
    "    df = df[(df['Data di prelievo'] >= start_date) & (df['Data di prelievo'] <= end_date)]\n",
    "\n",
    "    missing_values = df[df[column + '_label'].isna()].shape[0] / df.shape[0] * 100\n",
    "    \n",
    "    info_df.loc[\"N° Entries\", column] = df.shape[0]\n",
    "\n",
    "    info_df.loc[\"N° Valid Samples\", column] = (\n",
    "        df[column + \"_label\"].notna().sum()\n",
    "    )\n",
    "    info_df.loc[\n",
    "        \"N° Missing\", column\n",
    "    ] = round(missing_values, 2)\n",
    "    \n",
    "    info_df.loc[\"N° < LOQ\", column] = df[df[column + \"_label\"] == \"Less than\"].shape[0]\n",
    "    \n",
    "    info_df.loc[\"Mean\",  column] = df[column].mean().round(2)\n",
    "    info_df.loc[\"Std\", column] = df[column].std().round(2)\n",
    "    \n",
    "    info_df.loc[\"Start Date\", column] = start_date\n",
    "    info_df.loc[\"End Date\", column] = end_date"
   ]
  },
  {
   "cell_type": "code",
   "execution_count": null,
   "metadata": {},
   "outputs": [],
   "source": [
    "info_df"
   ]
  },
  {
   "cell_type": "code",
   "execution_count": null,
   "metadata": {},
   "outputs": [],
   "source": [
    "info_df.to_excel(os.path.join(metadata_feltre_folder, \"Summary_Historical.xlsx\"))"
   ]
  },
  {
   "cell_type": "markdown",
   "metadata": {},
   "source": [
    "## Compare only the time period there is in common between sensors and grabs"
   ]
  },
  {
   "cell_type": "code",
   "execution_count": null,
   "metadata": {},
   "outputs": [],
   "source": [
    "# just the data from the month of July\n",
    "grab_samples_df = grab_samples_df[(grab_samples_df['Data di prelievo'].dt.month == 7) & (grab_samples_df['Data di prelievo'].dt.year > 2015)]"
   ]
  },
  {
   "cell_type": "code",
   "execution_count": null,
   "metadata": {},
   "outputs": [],
   "source": [
    "grab_samples_df"
   ]
  },
  {
   "cell_type": "code",
   "execution_count": null,
   "metadata": {},
   "outputs": [],
   "source": [
    "column_renames = {\n",
    "    'TOCeq - Measured value [mg/l] (Limit:0.00-8.00_Coefs:0.00 1.00 0.00 0.00)': 'TOC (mg/L)',\n",
    "    'Turbidity - Measured value [FTU] (Limit:0.00-20.00_Coefs:0.00 1.00 0.00 0.00)': 'Turbidity (FTU)',\n",
    "    'Conductivity - Measured value [uS/cm] (Limit:0.10-600000.00)': 'Conductivity (uS/cm)',\n",
    "    'Temperature - Measured value [°C] (Limit:-20.00-130.00)': 'Temperature (°C)',\n",
    "    'pH - Measured value (Limit:0.00-14.00_Coefs:-2.40 0.97 0.00 0.00)': 'pH',\n",
    "    'Free Chlorine - Measured value [mg/l] (Limit:0.00-2.00_Coefs:0.00 7.60 0.00 0.00)': 'Free Chlorine (mg/L)',\n",
    "    'nitrati - Result (Limit:-Infinity-+Infinity)': 'Nitrates (mg/L)',\n",
    "}"
   ]
  },
  {
   "cell_type": "code",
   "execution_count": null,
   "metadata": {},
   "outputs": [],
   "source": [
    "columns_mapping = {\n",
    "    'TOCeq - Measured value [mg/l] (Limit:0.00-8.00_Coefs:0.00 1.00 0.00 0.00)': 'TOC - carbonio organico totale (mg/L di C)',\n",
    "    'Turbidity - Measured value [FTU] (Limit:0.00-20.00_Coefs:0.00 1.00 0.00 0.00)': 'Torbidità (NTU)',\n",
    "    'Conductivity - Measured value [uS/cm] (Limit:0.10-600000.00)': 'Conduttività a 20°C (µS/cm)',\n",
    "    'Temperature - Measured value [°C] (Limit:-20.00-130.00)': 'Temperatura (°C)',\n",
    "    'pH - Measured value (Limit:0.00-14.00_Coefs:-2.40 0.97 0.00 0.00)': 'Concentrazione ioni idrogeno (unità pH)',\n",
    "    'Free Chlorine - Measured value [mg/l] (Limit:0.00-2.00_Coefs:0.00 7.60 0.00 0.00)': 'Cloro residuo libero (mg/L di Cl2)',\n",
    "    'nitrati - Result (Limit:-Infinity-+Infinity)': 'Nitrati (mg/L)'\n",
    "}"
   ]
  },
  {
   "cell_type": "code",
   "execution_count": null,
   "metadata": {},
   "outputs": [],
   "source": [
    "# boxplot to compare the grab samples with the data\n",
    "for sensor_column, grab_column in columns_mapping.items():\n",
    "    fig = go.Figure()\n",
    "    \n",
    "    s_df = data_df[sensor_column].copy()\n",
    "    s_df = s_df.resample('D').mean()\n",
    "    \n",
    "    print(grab_samples_df[grab_column].count())\n",
    "\n",
    "    # add box plot before and after the change\n",
    "    fig.add_trace(go.Box(y=s_df, name=\"Sensor\", marker_color=\"blue\"))\n",
    "\n",
    "    fig.add_trace(go.Box(y=grab_samples_df[grab_column], name=\"Grab\", marker_color=\"red\"))\n",
    "\n",
    "    fig.update_layout(\n",
    "        title=f\"Feltre - {column_renames[sensor_column]}\",\n",
    "        yaxis_title=column_renames[sensor_column],\n",
    "    )\n",
    "\n",
    "    fig.show(\n",
    "        renderer='svg',\n",
    "        width=1000,\n",
    "    )"
   ]
  }
 ],
 "metadata": {
  "kernelspec": {
   "display_name": "safecrew-3OLHM_8n-py3.12",
   "language": "python",
   "name": "python3"
  },
  "language_info": {
   "codemirror_mode": {
    "name": "ipython",
    "version": 3
   },
   "file_extension": ".py",
   "mimetype": "text/x-python",
   "name": "python",
   "nbconvert_exporter": "python",
   "pygments_lexer": "ipython3",
   "version": "3.12.6"
  }
 },
 "nbformat": 4,
 "nbformat_minor": 2
}
