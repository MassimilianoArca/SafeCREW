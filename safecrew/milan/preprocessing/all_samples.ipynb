{
 "cells": [
  {
   "cell_type": "markdown",
   "metadata": {},
   "source": [
    "# All Grab Samples Data Preprocessing"
   ]
  },
  {
   "cell_type": "code",
   "execution_count": 1,
   "metadata": {},
   "outputs": [],
   "source": [
    "import os\n",
    "import json\n",
    "import pandas as pd\n",
    "import numpy as np\n",
    "import seaborn as sns\n",
    "import matplotlib.pyplot as plt"
   ]
  },
  {
   "cell_type": "markdown",
   "metadata": {},
   "source": [
    "## Paths"
   ]
  },
  {
   "cell_type": "code",
   "execution_count": 2,
   "metadata": {},
   "outputs": [],
   "source": [
    "data_folder = os.path.join(os.path.join(\"..\", \"..\", \"data\"))\n",
    "raw_data_folder = os.path.join(data_folder, \"Raw Data\")\n",
    "\n",
    "datasets_folder = os.path.join(data_folder, \"Intermediate Data\")\n",
    "\n",
    "all_grab_samples_path = os.path.join(\n",
    "    raw_data_folder, \"Tutti punti - Grab Samples\"\n",
    ")\n",
    "\n",
    "utils_folder = os.path.join(\"..\", \"..\", \"utils\")"
   ]
  },
  {
   "cell_type": "markdown",
   "metadata": {},
   "source": [
    "## Collect all grab samples"
   ]
  },
  {
   "cell_type": "markdown",
   "metadata": {},
   "source": [
    "### Load all grab samples"
   ]
  },
  {
   "cell_type": "code",
   "execution_count": 3,
   "metadata": {},
   "outputs": [],
   "source": [
    "# Load the columns\n",
    "with open(os.path.join(utils_folder, \"columns_types.json\"), \"r\") as f:\n",
    "    column_types = json.load(f)\n",
    "\n",
    "all_metadata_columns = column_types[\"metadata_columns\"]\n",
    "all_features_columns = column_types[\"features_columns\"]\n",
    "all_target_columns = column_types[\"targets_columns\"]\n",
    "\n",
    "all_columns = all_metadata_columns + all_features_columns + all_target_columns"
   ]
  },
  {
   "cell_type": "code",
   "execution_count": null,
   "metadata": {},
   "outputs": [],
   "source": [
    "all_columns"
   ]
  },
  {
   "cell_type": "code",
   "execution_count": 8,
   "metadata": {},
   "outputs": [],
   "source": [
    "grab_samples = []\n",
    "\n",
    "for file in os.listdir(all_grab_samples_path):\n",
    "    if file.endswith(\".xlsx\"):\n",
    "        df = pd.read_excel(os.path.join(all_grab_samples_path, file), header=11)\n",
    "    else:\n",
    "        df = pd.read_excel(os.path.join(all_grab_samples_path, file), header=15)\n",
    "    common_cols = list(set(df.columns.to_list()) & set(all_columns))\n",
    "    df = df[common_cols]\n",
    "    grab_samples.append(df)\n",
    "\n",
    "grab_samples_df = pd.concat(grab_samples, ignore_index=True)"
   ]
  },
  {
   "cell_type": "markdown",
   "metadata": {},
   "source": [
    "### Fix Redundant Columns"
   ]
  },
  {
   "cell_type": "code",
   "execution_count": 6,
   "metadata": {},
   "outputs": [],
   "source": [
    "# combine all value columns in the mapping to the corresponding key column\n",
    "column_mapping = {\n",
    "    \"Temperatura (°C)\": [\n",
    "        \"Temperatura - °C\",\n",
    "    ],\n",
    "    \"Torbidità (NTU)\": [\n",
    "        \"Torbidità (NTu)\",\n",
    "    ],\n",
    "    \"Batteri coliformi a 37°C (MPN/100 mL)\": [\n",
    "        \"Batteri coliformi a 37°C (MPN / 100 mL)\",\n",
    "    ],\n",
    "    \"Colore (CU)\": [\n",
    "        \"Colore (Cu)\",\n",
    "    ],\n",
    "    \"Escherichia coli (MPN/100 mL)\": [\n",
    "        \"Escherichia Coli (MPN / 100mL)\",\n",
    "    ],\n",
    "    \"Enterococchi (MPN/100 mL)\": [\n",
    "        \"Enterococchi (MPN / 100mL)\",\n",
    "    ],\n",
    "}\n",
    "\n",
    "for final_column, original_columns in column_mapping.items():\n",
    "    for original_column in original_columns:\n",
    "        grab_samples_df[final_column] = grab_samples_df[\n",
    "            final_column\n",
    "        ].combine_first(grab_samples_df[original_column])\n",
    "    grab_samples_df.drop(columns=original_columns, inplace=True)"
   ]
  },
  {
   "cell_type": "code",
   "execution_count": null,
   "metadata": {},
   "outputs": [],
   "source": [
    "grab_samples_df.columns.to_list()"
   ]
  },
  {
   "cell_type": "code",
   "execution_count": null,
   "metadata": {},
   "outputs": [],
   "source": [
    "grab_samples_df.columns"
   ]
  },
  {
   "cell_type": "code",
   "execution_count": 16,
   "metadata": {},
   "outputs": [],
   "source": [
    "metadata_columns = list(\n",
    "    set(all_metadata_columns) & set(grab_samples_df.columns)\n",
    ")\n",
    "feature_columns = list(set(all_features_columns) & set(grab_samples_df.columns))\n",
    "target_columns = list(set(all_target_columns) & set(grab_samples_df.columns))"
   ]
  },
  {
   "cell_type": "code",
   "execution_count": 17,
   "metadata": {},
   "outputs": [],
   "source": [
    "grab_samples_df.dropna(\n",
    "    axis=0, subset=feature_columns + target_columns, how=\"all\", inplace=True\n",
    ")\n",
    "grab_samples_df.dropna(axis=1, how=\"all\", inplace=True)"
   ]
  },
  {
   "cell_type": "code",
   "execution_count": 18,
   "metadata": {},
   "outputs": [],
   "source": [
    "import re\n",
    "\n",
    "\n",
    "def convert_string_values(s):\n",
    "    if isinstance(s, (int, float)):\n",
    "        return s\n",
    "    elif pd.isna(s):\n",
    "        return None\n",
    "    else:\n",
    "        if \",\" in s:\n",
    "            s = s.replace(\",\", \".\")\n",
    "        if \"<\" in s:\n",
    "            number = re.findall(r\"\\d+\\.?\\d*\", s)\n",
    "            return float(number[0]) / 2 if number else None\n",
    "        elif \">\" in s:\n",
    "            number = re.findall(r\"\\d+\\.?\\d*\", s)\n",
    "            return float(number[0]) if number else None\n",
    "        elif \"*\" in s or re.search(\"[a-zA-Z]\", s):\n",
    "            number = re.findall(r\"\\d+\\.?\\d*\", s)\n",
    "            return float(number[0]) if number else None\n",
    "        else:\n",
    "            return None"
   ]
  },
  {
   "cell_type": "code",
   "execution_count": 19,
   "metadata": {},
   "outputs": [],
   "source": [
    "def set_label(value):\n",
    "    if pd.isna(value):\n",
    "        return \"NaN\"\n",
    "    elif isinstance(value, (int, float)):\n",
    "        return \"Normal\"\n",
    "    elif \"<\" in value:\n",
    "        return \"Less than\"\n",
    "    elif \">\" in value:\n",
    "        return \"Greater than\"\n",
    "    else:\n",
    "        return \"NaN\""
   ]
  },
  {
   "cell_type": "code",
   "execution_count": 20,
   "metadata": {},
   "outputs": [],
   "source": [
    "convert_columns = list(\n",
    "    set(grab_samples_df.columns.to_list()) - set(metadata_columns)\n",
    ")"
   ]
  },
  {
   "cell_type": "code",
   "execution_count": 21,
   "metadata": {},
   "outputs": [],
   "source": [
    "for col in convert_columns:\n",
    "    label_col = col + \"_label\"\n",
    "    grab_samples_df[label_col] = grab_samples_df[col].apply(set_label)"
   ]
  },
  {
   "cell_type": "code",
   "execution_count": 22,
   "metadata": {},
   "outputs": [],
   "source": [
    "grab_samples_df[convert_columns] = grab_samples_df[convert_columns].map(\n",
    "    convert_string_values\n",
    ")"
   ]
  },
  {
   "cell_type": "code",
   "execution_count": 23,
   "metadata": {},
   "outputs": [],
   "source": [
    "# convert each column to the right data type\n",
    "grab_samples_df[convert_columns] = grab_samples_df[convert_columns].astype(\n",
    "    float\n",
    ")"
   ]
  },
  {
   "cell_type": "code",
   "execution_count": 24,
   "metadata": {},
   "outputs": [],
   "source": [
    "# order columns based on their type (metadata, features, target)\n",
    "ordered_columns = []\n",
    "for col in all_columns:\n",
    "    if col in grab_samples_df.columns:\n",
    "        ordered_columns.append(col)\n",
    "        label_col = col + \"_label\"\n",
    "        if label_col in grab_samples_df.columns:\n",
    "            ordered_columns.append(label_col)\n",
    "\n",
    "grab_samples_df = grab_samples_df[ordered_columns]"
   ]
  },
  {
   "cell_type": "code",
   "execution_count": 25,
   "metadata": {},
   "outputs": [],
   "source": [
    "grab_samples_df[\"Data di prelievo\"] = pd.to_datetime(\n",
    "    grab_samples_df[\"Data di prelievo\"], format=\"%Y/%m/%d\"\n",
    ")"
   ]
  },
  {
   "cell_type": "code",
   "execution_count": null,
   "metadata": {},
   "outputs": [],
   "source": [
    "grab_samples_df"
   ]
  },
  {
   "cell_type": "code",
   "execution_count": 27,
   "metadata": {},
   "outputs": [],
   "source": [
    "grab_samples_df.sort_values(\"Data di prelievo\", inplace=True)"
   ]
  },
  {
   "cell_type": "code",
   "execution_count": 28,
   "metadata": {},
   "outputs": [],
   "source": [
    "grab_samples_df.to_excel(\n",
    "    os.path.join(datasets_folder, \"All grab samples.xlsx\"), index=False\n",
    ")"
   ]
  }
 ],
 "metadata": {
  "kernelspec": {
   "display_name": "safecrew-3OLHM_8n-py3.12",
   "language": "python",
   "name": "python3"
  },
  "language_info": {
   "codemirror_mode": {
    "name": "ipython",
    "version": 3
   },
   "file_extension": ".py",
   "mimetype": "text/x-python",
   "name": "python",
   "nbconvert_exporter": "python",
   "pygments_lexer": "ipython3",
   "version": "3.12.6"
  }
 },
 "nbformat": 4,
 "nbformat_minor": 2
}
