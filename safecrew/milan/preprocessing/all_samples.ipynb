{
 "cells": [
  {
   "cell_type": "markdown",
   "metadata": {},
   "source": [
    "# All Grab Samples Data Preprocessing"
   ]
  },
  {
   "cell_type": "code",
   "execution_count": 25,
   "metadata": {},
   "outputs": [],
   "source": [
    "import os\n",
    "import json\n",
    "import pandas as pd\n",
    "import numpy as np\n",
    "import seaborn as sns\n",
    "import matplotlib.pyplot as plt"
   ]
  },
  {
   "cell_type": "markdown",
   "metadata": {},
   "source": [
    "## Paths"
   ]
  },
  {
   "cell_type": "code",
   "execution_count": 26,
   "metadata": {},
   "outputs": [],
   "source": [
    "data_folder = os.path.join(os.path.join(\"..\", \"..\", \"data\"))\n",
    "raw_data_folder = os.path.join(data_folder, \"Raw Data\")\n",
    "\n",
    "datasets_folder = os.path.join(data_folder, \"Intermediate Data\")\n",
    "\n",
    "all_grab_samples_path = os.path.join(\n",
    "    raw_data_folder, \"Tutti punti - Grab Samples\"\n",
    ")\n",
    "\n",
    "utils_folder = os.path.join('..', '..', 'utils')"
   ]
  },
  {
   "cell_type": "markdown",
   "metadata": {},
   "source": [
    "## Collect all grab samples"
   ]
  },
  {
   "cell_type": "markdown",
   "metadata": {},
   "source": [
    "### Load all grab samples"
   ]
  },
  {
   "cell_type": "code",
   "execution_count": 27,
   "metadata": {},
   "outputs": [],
   "source": [
    "# Load the columns\n",
    "with open(os.path.join(utils_folder, \"columns_types.json\"), \"r\") as f:\n",
    "    column_types = json.load(f)\n",
    "\n",
    "all_metadata_columns = column_types[\"metadata_columns\"]\n",
    "all_features_columns = column_types[\"features_columns\"]\n",
    "all_target_columns = column_types[\"targets_columns\"]\n",
    "\n",
    "all_columns = all_metadata_columns + all_features_columns + all_target_columns"
   ]
  },
  {
   "cell_type": "code",
   "execution_count": 42,
   "metadata": {},
   "outputs": [],
   "source": [
    "grab_samples = []\n",
    "\n",
    "for file in os.listdir(all_grab_samples_path):\n",
    "    if file.endswith(\".xlsx\"):\n",
    "        df = pd.read_excel(os.path.join(all_grab_samples_path, file), header=11)\n",
    "    else:\n",
    "        df = pd.read_excel(os.path.join(all_grab_samples_path, file), header=15)\n",
    "    common_cols = list(set(df.columns.to_list()) & set(all_columns))\n",
    "    df = df[common_cols]\n",
    "    grab_samples.append(df)\n",
    "\n",
    "grab_samples_df = pd.concat(grab_samples, ignore_index=True)"
   ]
  },
  {
   "cell_type": "markdown",
   "metadata": {},
   "source": [
    "### Fix Redundant Columns"
   ]
  },
  {
   "cell_type": "code",
   "execution_count": null,
   "metadata": {},
   "outputs": [],
   "source": [
    "grab_samples_df.columns.to_list()"
   ]
  },
  {
   "cell_type": "code",
   "execution_count": 29,
   "metadata": {},
   "outputs": [],
   "source": [
    "metadata_columns = list(\n",
    "    set(all_metadata_columns) & set(grab_samples_df.columns)\n",
    ")\n",
    "feature_columns = list(set(all_features_columns) & set(grab_samples_df.columns))\n",
    "target_columns = list(set(all_target_columns) & set(grab_samples_df.columns))"
   ]
  },
  {
   "cell_type": "code",
   "execution_count": 30,
   "metadata": {},
   "outputs": [],
   "source": [
    "grab_samples_df.dropna(\n",
    "    axis=0, subset=feature_columns + target_columns, how=\"all\", inplace=True\n",
    ")\n",
    "grab_samples_df.dropna(axis=1, how=\"all\", inplace=True)"
   ]
  },
  {
   "cell_type": "code",
   "execution_count": 31,
   "metadata": {},
   "outputs": [],
   "source": [
    "import re\n",
    "\n",
    "\n",
    "def convert_string_values(s):\n",
    "    if isinstance(s, (int, float)):\n",
    "        return s\n",
    "    elif pd.isna(s):\n",
    "        return None\n",
    "    else:\n",
    "        if \",\" in s:\n",
    "            s = s.replace(\",\", \".\")\n",
    "        if \"<\" in s:\n",
    "            number = re.findall(r\"\\d+\\.?\\d*\", s)\n",
    "            return float(number[0]) / 2 if number else None\n",
    "        elif \">\" in s:\n",
    "            number = re.findall(r\"\\d+\\.?\\d*\", s)\n",
    "            return float(number[0]) if number else None\n",
    "        elif \"*\" in s or re.search(\"[a-zA-Z]\", s):\n",
    "            number = re.findall(r\"\\d+\\.?\\d*\", s)\n",
    "            return float(number[0]) if number else None\n",
    "        else:\n",
    "            return None"
   ]
  },
  {
   "cell_type": "code",
   "execution_count": 120,
   "metadata": {},
   "outputs": [],
   "source": [
    "\n",
    "def set_label(value):\n",
    "    if pd.isna(value):\n",
    "        return \"NaN\"\n",
    "    elif isinstance(value, (int, float)):\n",
    "        return \"Normal\"\n",
    "    elif \"<\" in value:\n",
    "        return \"Less than\"\n",
    "    elif \">\" in value:\n",
    "        return \"Greater than\"\n",
    "    else:\n",
    "        return \"Normal\""
   ]
  },
  {
   "cell_type": "code",
   "execution_count": 33,
   "metadata": {},
   "outputs": [],
   "source": [
    "convert_columns = list(\n",
    "    set(grab_samples_df.columns.to_list()) - set(metadata_columns)\n",
    ")"
   ]
  },
  {
   "cell_type": "code",
   "execution_count": 34,
   "metadata": {},
   "outputs": [],
   "source": [
    "for col in convert_columns:\n",
    "    label_col = col + \"_label\"\n",
    "    grab_samples_df[label_col] = grab_samples_df[col].apply(set_label)"
   ]
  },
  {
   "cell_type": "code",
   "execution_count": 35,
   "metadata": {},
   "outputs": [],
   "source": [
    "grab_samples_df[convert_columns] = grab_samples_df[convert_columns].map(\n",
    "    convert_string_values\n",
    ")"
   ]
  },
  {
   "cell_type": "code",
   "execution_count": 36,
   "metadata": {},
   "outputs": [],
   "source": [
    "# convert each column to the right data type\n",
    "grab_samples_df[convert_columns] = grab_samples_df[convert_columns].astype(\n",
    "    float\n",
    ")"
   ]
  },
  {
   "cell_type": "code",
   "execution_count": 37,
   "metadata": {},
   "outputs": [],
   "source": [
    "# order columns based on their type (metadata, features, target)\n",
    "ordered_columns = []\n",
    "for col in all_columns:\n",
    "    if col in grab_samples_df.columns:\n",
    "        ordered_columns.append(col)\n",
    "        label_col = col + \"_label\"\n",
    "        if label_col in grab_samples_df.columns:\n",
    "            ordered_columns.append(label_col)\n",
    "\n",
    "grab_samples_df = grab_samples_df[ordered_columns]"
   ]
  },
  {
   "cell_type": "code",
   "execution_count": 38,
   "metadata": {},
   "outputs": [],
   "source": [
    "grab_samples_df[\"Data di prelievo\"] = pd.to_datetime(\n",
    "    grab_samples_df[\"Data di prelievo\"], format=\"%Y/%m/%d\"\n",
    ")"
   ]
  },
  {
   "cell_type": "code",
   "execution_count": null,
   "metadata": {},
   "outputs": [],
   "source": [
    "grab_samples_df"
   ]
  },
  {
   "cell_type": "code",
   "execution_count": 40,
   "metadata": {},
   "outputs": [],
   "source": [
    "grab_samples_df.sort_values(\"Data di prelievo\", inplace=True)"
   ]
  },
  {
   "cell_type": "code",
   "execution_count": null,
   "metadata": {},
   "outputs": [],
   "source": [
    "grab_samples_df"
   ]
  },
  {
   "cell_type": "code",
   "execution_count": null,
   "metadata": {},
   "outputs": [],
   "source": [
    "grab_samples_df.to_excel(\n",
    "    os.path.join(datasets_folder, \"All grab samples.xlsx\"), index=False\n",
    ")"
   ]
  },
  {
   "cell_type": "code",
   "execution_count": 121,
   "metadata": {},
   "outputs": [],
   "source": [
    "df = pd.read_excel(\n",
    "    os.path.join(all_grab_samples_path, 'PG 07_M13 Archivio Completo 2018-2022 safecrew.xlsx'), header=11\n",
    ")"
   ]
  },
  {
   "cell_type": "code",
   "execution_count": 122,
   "metadata": {},
   "outputs": [],
   "source": [
    "df['Data di prelievo'] = pd.to_datetime(df['Data di prelievo'], format='%d/%m/%Y')"
   ]
  },
  {
   "cell_type": "code",
   "execution_count": 123,
   "metadata": {},
   "outputs": [],
   "source": [
    "df = df[(df['Data di prelievo'] >= '18-09-2023') & (df['Data di prelievo'] <= '18-09-2024')]"
   ]
  },
  {
   "cell_type": "code",
   "execution_count": 124,
   "metadata": {},
   "outputs": [],
   "source": [
    "df.drop(\n",
    "    columns=[\n",
    "        'Rapporto di prova',\n",
    "        'Codice punto di prelievo',\n",
    "        'Campagna',\n",
    "        'Analisi programmate',\n",
    "        'filtro 1',\n",
    "        'filtro 2',\n",
    "        'Note'\n",
    "    ],\n",
    "    inplace=True,\n",
    ")"
   ]
  },
  {
   "cell_type": "code",
   "execution_count": 125,
   "metadata": {},
   "outputs": [],
   "source": [
    "df = df[all_target_columns]"
   ]
  },
  {
   "cell_type": "code",
   "execution_count": null,
   "metadata": {},
   "outputs": [],
   "source": [
    "df"
   ]
  },
  {
   "cell_type": "code",
   "execution_count": 127,
   "metadata": {},
   "outputs": [],
   "source": [
    "for col in all_target_columns:\n",
    "    label_col = col + \"_label\"\n",
    "    df[label_col] = df[col].apply(set_label)"
   ]
  },
  {
   "cell_type": "code",
   "execution_count": 128,
   "metadata": {},
   "outputs": [],
   "source": [
    "df[all_target_columns] = df[all_target_columns].map(convert_string_values)"
   ]
  },
  {
   "cell_type": "code",
   "execution_count": 134,
   "metadata": {},
   "outputs": [],
   "source": [
    "# create a table with some statistics about the target columns\n",
    "stats_df = pd.DataFrame(index=all_target_columns, columns=[\"mean\", \"std\", \"25%\", \"50%\", \"75%\", \"below LOD\", 'above LOD', 'NaN'])\n",
    "\n",
    "for col in all_target_columns:\n",
    "    stats_df.loc[col, \"mean\"] = df[col].mean()\n",
    "    stats_df.loc[col, \"std\"] = df[col].std()\n",
    "    stats_df.loc[col, \"25%\"] = df[col].quantile(0.25)\n",
    "    stats_df.loc[col, \"50%\"] = df[col].quantile(0.50)\n",
    "    stats_df.loc[col, \"75%\"] = df[col].quantile(0.75)\n",
    "    # count the number of values below the limit of detection\n",
    "    col_df = df[str(col + \"_label\")]\n",
    "    stats_df.loc[col, \"below LOD\"] = col_df[col_df == \"Less than\"].count()\n",
    "    stats_df.loc[col, \"above LOD\"] = col_df[col_df == \"Normal\"].count()\n",
    "    stats_df.loc[col, \"NaN\"] = col_df[col_df == \"NaN\"].count()"
   ]
  },
  {
   "cell_type": "code",
   "execution_count": 135,
   "metadata": {},
   "outputs": [],
   "source": [
    "stats_df.to_excel('microbial_stats.xlsx')"
   ]
  }
 ],
 "metadata": {
  "kernelspec": {
   "display_name": "safecrew-3OLHM_8n-py3.12",
   "language": "python",
   "name": "python3"
  },
  "language_info": {
   "codemirror_mode": {
    "name": "ipython",
    "version": 3
   },
   "file_extension": ".py",
   "mimetype": "text/x-python",
   "name": "python",
   "nbconvert_exporter": "python",
   "pygments_lexer": "ipython3",
   "version": "3.12.6"
  }
 },
 "nbformat": 4,
 "nbformat_minor": 2
}
